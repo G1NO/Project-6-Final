{
 "cells": [
  {
   "cell_type": "markdown",
   "metadata": {},
   "source": [
    "# PROJECT 6\n",
    "\n",
    "# PIPELINE 2: SEARCH"
   ]
  },
  {
   "cell_type": "markdown",
   "metadata": {},
   "source": [
    "# BONUS: \n",
    "Present: Command is executed via command line script"
   ]
  },
  {
   "cell_type": "code",
   "execution_count": 1,
   "metadata": {
    "collapsed": false
   },
   "outputs": [
    {
     "name": "stdout",
     "output_type": "stream",
     "text": [
      "/Users/ginodefalco/dsi/dsi-workspace/Projects/project_6\r\n"
     ]
    }
   ],
   "source": [
    "!pwd"
   ]
  },
  {
   "cell_type": "code",
   "execution_count": 2,
   "metadata": {
    "collapsed": true
   },
   "outputs": [],
   "source": [
    "import os\n",
    "os.chdir('./lib')"
   ]
  },
  {
   "cell_type": "code",
   "execution_count": 3,
   "metadata": {
    "collapsed": true
   },
   "outputs": [],
   "source": [
    "import database_module_updt as db\n",
    "import encoding_module as enc\n",
    "import wiki_module_copy as wiki\n",
    "import pandas as pd"
   ]
  },
  {
   "cell_type": "code",
   "execution_count": 4,
   "metadata": {
    "collapsed": false
   },
   "outputs": [
    {
     "name": "stdout",
     "output_type": "stream",
     "text": [
      "Connected to server joshuacook.me.\n"
     ]
    },
    {
     "data": {
      "text/plain": [
       "(<connection object at 0x1158bb180; dsn: 'user=gino password=xxxxxxxxxxx she wagon equator' host=joshuacook.me port=5432 dbname=project_6', closed: 0>,\n",
       " <cursor object at 0x1157df908; closed: 0>)"
      ]
     },
     "execution_count": 4,
     "metadata": {},
     "output_type": "execute_result"
    }
   ],
   "source": [
    "db.connect_to_postgres()"
   ]
  },
  {
   "cell_type": "markdown",
   "metadata": {},
   "source": [
    "# Parse: Encode search as document vector\n"
   ]
  },
  {
   "cell_type": "code",
   "execution_count": 5,
   "metadata": {
    "collapsed": false
   },
   "outputs": [
    {
     "name": "stdout",
     "output_type": "stream",
     "text": [
      "Connected to server joshuacook.me.\n"
     ]
    }
   ],
   "source": [
    "page_vectors = db.select_all_page_vectors()"
   ]
  },
  {
   "cell_type": "code",
   "execution_count": 6,
   "metadata": {
    "collapsed": true
   },
   "outputs": [],
   "source": [
    "indices = [tup[0] for tup in page_vectors]\n",
    "vectors = [tup[1] for tup in page_vectors]"
   ]
  },
  {
   "cell_type": "code",
   "execution_count": 7,
   "metadata": {
    "collapsed": true
   },
   "outputs": [],
   "source": [
    "page_vectors_df = pd.DataFrame(vectors, index=indices)"
   ]
  },
  {
   "cell_type": "code",
   "execution_count": 8,
   "metadata": {
    "collapsed": false,
    "scrolled": true
   },
   "outputs": [
    {
     "data": {
      "text/html": [
       "<div>\n",
       "<table border=\"1\" class=\"dataframe\">\n",
       "  <thead>\n",
       "    <tr style=\"text-align: right;\">\n",
       "      <th></th>\n",
       "      <th>0</th>\n",
       "      <th>1</th>\n",
       "      <th>2</th>\n",
       "      <th>3</th>\n",
       "      <th>4</th>\n",
       "      <th>5</th>\n",
       "      <th>6</th>\n",
       "      <th>7</th>\n",
       "      <th>8</th>\n",
       "      <th>9</th>\n",
       "      <th>...</th>\n",
       "      <th>490</th>\n",
       "      <th>491</th>\n",
       "      <th>492</th>\n",
       "      <th>493</th>\n",
       "      <th>494</th>\n",
       "      <th>495</th>\n",
       "      <th>496</th>\n",
       "      <th>497</th>\n",
       "      <th>498</th>\n",
       "      <th>499</th>\n",
       "    </tr>\n",
       "  </thead>\n",
       "  <tbody>\n",
       "    <tr>\n",
       "      <th>4341789</th>\n",
       "      <td>0.092992</td>\n",
       "      <td>-0.040985</td>\n",
       "      <td>0.006952</td>\n",
       "      <td>0.000243</td>\n",
       "      <td>0.001681</td>\n",
       "      <td>0.004999</td>\n",
       "      <td>0.003430</td>\n",
       "      <td>0.003523</td>\n",
       "      <td>-0.005129</td>\n",
       "      <td>-0.001911</td>\n",
       "      <td>...</td>\n",
       "      <td>-0.021003</td>\n",
       "      <td>-0.039528</td>\n",
       "      <td>0.027716</td>\n",
       "      <td>0.021033</td>\n",
       "      <td>-0.034768</td>\n",
       "      <td>-0.022294</td>\n",
       "      <td>0.031537</td>\n",
       "      <td>-0.009710</td>\n",
       "      <td>-0.010331</td>\n",
       "      <td>0.025944</td>\n",
       "    </tr>\n",
       "    <tr>\n",
       "      <th>48201744</th>\n",
       "      <td>0.021301</td>\n",
       "      <td>0.027559</td>\n",
       "      <td>-0.003917</td>\n",
       "      <td>-0.010877</td>\n",
       "      <td>0.013055</td>\n",
       "      <td>0.000934</td>\n",
       "      <td>0.000128</td>\n",
       "      <td>0.010317</td>\n",
       "      <td>0.001444</td>\n",
       "      <td>-0.009792</td>\n",
       "      <td>...</td>\n",
       "      <td>-0.055040</td>\n",
       "      <td>0.000110</td>\n",
       "      <td>0.057817</td>\n",
       "      <td>0.005156</td>\n",
       "      <td>0.058477</td>\n",
       "      <td>0.008807</td>\n",
       "      <td>0.043527</td>\n",
       "      <td>-0.011693</td>\n",
       "      <td>0.064738</td>\n",
       "      <td>0.051296</td>\n",
       "    </tr>\n",
       "    <tr>\n",
       "      <th>2514975</th>\n",
       "      <td>0.124983</td>\n",
       "      <td>0.153025</td>\n",
       "      <td>0.026264</td>\n",
       "      <td>-0.257191</td>\n",
       "      <td>-0.210183</td>\n",
       "      <td>0.074847</td>\n",
       "      <td>0.003862</td>\n",
       "      <td>-0.009666</td>\n",
       "      <td>-0.065705</td>\n",
       "      <td>-0.280972</td>\n",
       "      <td>...</td>\n",
       "      <td>-0.022703</td>\n",
       "      <td>0.015894</td>\n",
       "      <td>-0.002476</td>\n",
       "      <td>0.004992</td>\n",
       "      <td>-0.006653</td>\n",
       "      <td>-0.017394</td>\n",
       "      <td>-0.008525</td>\n",
       "      <td>0.017188</td>\n",
       "      <td>-0.001596</td>\n",
       "      <td>0.000120</td>\n",
       "    </tr>\n",
       "    <tr>\n",
       "      <th>35135520</th>\n",
       "      <td>0.191357</td>\n",
       "      <td>-0.039003</td>\n",
       "      <td>-0.006018</td>\n",
       "      <td>0.006389</td>\n",
       "      <td>-0.001106</td>\n",
       "      <td>-0.004748</td>\n",
       "      <td>0.015829</td>\n",
       "      <td>0.005612</td>\n",
       "      <td>0.011846</td>\n",
       "      <td>0.028248</td>\n",
       "      <td>...</td>\n",
       "      <td>0.000578</td>\n",
       "      <td>-0.004204</td>\n",
       "      <td>0.030916</td>\n",
       "      <td>0.010484</td>\n",
       "      <td>-0.012454</td>\n",
       "      <td>0.026050</td>\n",
       "      <td>0.038744</td>\n",
       "      <td>0.015332</td>\n",
       "      <td>-0.008053</td>\n",
       "      <td>0.009506</td>\n",
       "    </tr>\n",
       "    <tr>\n",
       "      <th>27303975</th>\n",
       "      <td>0.034292</td>\n",
       "      <td>0.039499</td>\n",
       "      <td>-0.006095</td>\n",
       "      <td>-0.015156</td>\n",
       "      <td>0.026112</td>\n",
       "      <td>-0.039749</td>\n",
       "      <td>-0.081440</td>\n",
       "      <td>-0.036546</td>\n",
       "      <td>0.005076</td>\n",
       "      <td>0.018881</td>\n",
       "      <td>...</td>\n",
       "      <td>0.030056</td>\n",
       "      <td>-0.026965</td>\n",
       "      <td>-0.002426</td>\n",
       "      <td>0.042282</td>\n",
       "      <td>0.024082</td>\n",
       "      <td>0.004498</td>\n",
       "      <td>-0.009517</td>\n",
       "      <td>-0.005315</td>\n",
       "      <td>-0.003784</td>\n",
       "      <td>-0.010202</td>\n",
       "    </tr>\n",
       "  </tbody>\n",
       "</table>\n",
       "<p>5 rows × 500 columns</p>\n",
       "</div>"
      ],
      "text/plain": [
       "               0         1         2         3         4         5    \\\n",
       "4341789   0.092992 -0.040985  0.006952  0.000243  0.001681  0.004999   \n",
       "48201744  0.021301  0.027559 -0.003917 -0.010877  0.013055  0.000934   \n",
       "2514975   0.124983  0.153025  0.026264 -0.257191 -0.210183  0.074847   \n",
       "35135520  0.191357 -0.039003 -0.006018  0.006389 -0.001106 -0.004748   \n",
       "27303975  0.034292  0.039499 -0.006095 -0.015156  0.026112 -0.039749   \n",
       "\n",
       "               6         7         8         9      ...          490  \\\n",
       "4341789   0.003430  0.003523 -0.005129 -0.001911    ...    -0.021003   \n",
       "48201744  0.000128  0.010317  0.001444 -0.009792    ...    -0.055040   \n",
       "2514975   0.003862 -0.009666 -0.065705 -0.280972    ...    -0.022703   \n",
       "35135520  0.015829  0.005612  0.011846  0.028248    ...     0.000578   \n",
       "27303975 -0.081440 -0.036546  0.005076  0.018881    ...     0.030056   \n",
       "\n",
       "               491       492       493       494       495       496  \\\n",
       "4341789  -0.039528  0.027716  0.021033 -0.034768 -0.022294  0.031537   \n",
       "48201744  0.000110  0.057817  0.005156  0.058477  0.008807  0.043527   \n",
       "2514975   0.015894 -0.002476  0.004992 -0.006653 -0.017394 -0.008525   \n",
       "35135520 -0.004204  0.030916  0.010484 -0.012454  0.026050  0.038744   \n",
       "27303975 -0.026965 -0.002426  0.042282  0.024082  0.004498 -0.009517   \n",
       "\n",
       "               497       498       499  \n",
       "4341789  -0.009710 -0.010331  0.025944  \n",
       "48201744 -0.011693  0.064738  0.051296  \n",
       "2514975   0.017188 -0.001596  0.000120  \n",
       "35135520  0.015332 -0.008053  0.009506  \n",
       "27303975 -0.005315 -0.003784 -0.010202  \n",
       "\n",
       "[5 rows x 500 columns]"
      ]
     },
     "execution_count": 8,
     "metadata": {},
     "output_type": "execute_result"
    }
   ],
   "source": [
    "page_vectors_df.head()"
   ]
  },
  {
   "cell_type": "code",
   "execution_count": 9,
   "metadata": {
    "collapsed": false
   },
   "outputs": [
    {
     "data": {
      "text/plain": [
       "(2270, 500)"
      ]
     },
     "execution_count": 9,
     "metadata": {},
     "output_type": "execute_result"
    }
   ],
   "source": [
    "page_vectors_df.shape"
   ]
  },
  {
   "cell_type": "code",
   "execution_count": 10,
   "metadata": {
    "collapsed": false
   },
   "outputs": [
    {
     "data": {
      "text/plain": [
       "array([-0.04098514,  0.02755917,  0.15302509, ...,  0.24935387,\n",
       "        0.2834365 ,  0.08240345])"
      ]
     },
     "execution_count": 10,
     "metadata": {},
     "output_type": "execute_result"
    }
   ],
   "source": [
    "page_vectors_df[1].as_matrix()"
   ]
  },
  {
   "cell_type": "code",
   "execution_count": 11,
   "metadata": {
    "collapsed": false
   },
   "outputs": [],
   "source": [
    "from sklearn.externals import joblib\n",
    "transformer = joblib.load('/Users/ginodefalco/dsi/dsi-workspace/Projects/project_6/data/vectorizer(1).pkl')"
   ]
  },
  {
   "cell_type": "code",
   "execution_count": 12,
   "metadata": {
    "collapsed": true
   },
   "outputs": [],
   "source": [
    "search_term = 'steve jobs'"
   ]
  },
  {
   "cell_type": "code",
   "execution_count": 13,
   "metadata": {
    "collapsed": true
   },
   "outputs": [],
   "source": [
    "test_vec = enc.get_searchterm_vector(transformer, search_term)"
   ]
  },
  {
   "cell_type": "code",
   "execution_count": 14,
   "metadata": {
    "collapsed": false,
    "scrolled": true
   },
   "outputs": [
    {
     "data": {
      "text/plain": [
       "(500,)"
      ]
     },
     "execution_count": 14,
     "metadata": {},
     "output_type": "execute_result"
    }
   ],
   "source": [
    "test_vec.values()[0][0].shape"
   ]
  },
  {
   "cell_type": "code",
   "execution_count": 15,
   "metadata": {
    "collapsed": true
   },
   "outputs": [],
   "source": [
    "test_vec = test_vec.values()[0][0]"
   ]
  },
  {
   "cell_type": "code",
   "execution_count": 16,
   "metadata": {
    "collapsed": false
   },
   "outputs": [
    {
     "data": {
      "text/plain": [
       "array([  3.52379698e-03,   1.55156385e-03,  -2.22391882e-03,\n",
       "         1.48923200e-04,  -1.56076045e-03,   3.55996343e-04,\n",
       "         3.66544673e-05,  -5.92638807e-04,  -9.80722891e-04,\n",
       "         4.88593667e-04,  -1.92905728e-03,  -4.04103430e-04,\n",
       "        -4.09921068e-04,   1.40910127e-03,  -1.03500250e-03,\n",
       "         2.42885848e-03,   1.18846424e-04,  -2.61224733e-03,\n",
       "         4.18605032e-04,  -3.25036946e-03,  -7.41455414e-04,\n",
       "         2.96052564e-03,   1.55751352e-03,   8.22861752e-04,\n",
       "        -5.76304049e-04,  -1.78838303e-03,   3.61818629e-03,\n",
       "         1.37083318e-03,  -6.58150609e-04,   2.24037865e-04,\n",
       "        -7.92612114e-04,  -1.44483477e-03,  -2.19441767e-03,\n",
       "        -3.53477853e-03,  -2.85772562e-03,  -8.87745579e-04,\n",
       "         1.43593606e-03,  -9.05940353e-04,  -5.93635142e-04,\n",
       "         3.39636792e-03,  -7.64174455e-04,  -8.88899052e-04,\n",
       "        -3.36521482e-04,   8.57806795e-04,  -4.00816816e-04,\n",
       "         1.56177825e-03,   3.89576296e-03,  -1.73228543e-03,\n",
       "        -3.04187335e-03,  -2.79671619e-04,   6.77862604e-04,\n",
       "         1.13433588e-03,  -2.29061539e-03,  -2.21574646e-03,\n",
       "         1.41834384e-03,   2.66646896e-03,  -1.30513048e-03,\n",
       "         2.22221321e-03,  -1.51915118e-03,   4.50582581e-05,\n",
       "        -6.48567209e-03,   3.88337488e-03,  -2.41716664e-03,\n",
       "         1.06851309e-02,  -2.72481586e-03,   1.11787401e-03,\n",
       "         2.94474477e-03,  -3.77816764e-04,   2.61849034e-03,\n",
       "         4.40890204e-03,   3.06242639e-03,  -1.25243758e-04,\n",
       "         1.30181139e-03,  -3.77795854e-03,   1.38992138e-03,\n",
       "        -2.21965385e-03,  -2.67269967e-03,  -1.92873121e-03,\n",
       "        -2.62331532e-03,  -3.93182137e-03,  -2.02376079e-03,\n",
       "        -1.42728248e-03,   1.93786643e-03,   3.02833589e-03,\n",
       "        -1.07490662e-03,   1.58559989e-04,   1.22356613e-03,\n",
       "        -3.15715212e-03,  -3.18066507e-03,   5.70546436e-04,\n",
       "        -2.21303858e-03,   2.29953783e-03,   3.40386620e-03,\n",
       "         9.84010145e-04,  -2.39886500e-03,   3.58936147e-03,\n",
       "        -4.11580903e-03,   4.29461692e-04,  -1.84958905e-03,\n",
       "         1.69804856e-03,   6.32909061e-04,  -7.95797596e-04,\n",
       "        -1.45064888e-04,  -1.93682000e-03,  -1.33652803e-03,\n",
       "        -1.05643780e-03,   5.12372037e-04,  -1.67633655e-03,\n",
       "         1.01776044e-03,  -1.15318362e-03,   2.27135204e-03,\n",
       "        -1.83723071e-03,  -5.22454994e-03,   1.33999127e-03,\n",
       "         6.55751615e-03,  -1.15428801e-03,   1.79001628e-03,\n",
       "         1.48496557e-03,  -9.41203160e-04,  -2.99074737e-03,\n",
       "         2.14032304e-03,  -1.36531375e-03,   4.92283172e-03,\n",
       "         2.03677415e-03,  -4.79416598e-03,   4.73507444e-04,\n",
       "        -3.66009083e-03,   1.13725123e-03,   2.40624291e-03,\n",
       "        -3.51479409e-03,   6.93196887e-03,   3.74602753e-03,\n",
       "        -1.68406819e-03,  -3.42073310e-03,   5.53824511e-04,\n",
       "         1.96265005e-03,  -1.56148064e-03,   1.28232370e-03,\n",
       "        -5.40088400e-04,   3.04184969e-03,  -3.88310653e-04,\n",
       "         4.29046927e-03,  -4.95704909e-03,  -8.20045798e-04,\n",
       "        -1.00918701e-04,  -2.84034998e-03,   4.81736219e-03,\n",
       "        -1.61721250e-03,  -4.47558765e-03,   3.93758825e-03,\n",
       "         1.27069264e-04,  -1.11982344e-03,   9.34455978e-04,\n",
       "         5.42415561e-03,  -3.10166190e-04,  -7.27871488e-04,\n",
       "         4.26050950e-03,  -2.77283646e-03,  -1.52140619e-03,\n",
       "         1.03310425e-03,   1.54198221e-03,  -2.32501373e-03,\n",
       "        -2.47087779e-04,  -6.03250301e-04,   2.73512195e-03,\n",
       "         7.40460417e-04,   3.41374034e-04,   3.99888587e-04,\n",
       "         1.56992776e-03,  -3.93011848e-04,   2.82885472e-03,\n",
       "         4.34970628e-04,   2.07962967e-04,  -1.13121511e-03,\n",
       "        -3.52196349e-03,   3.17187518e-04,  -1.84281453e-03,\n",
       "         2.80251765e-03,   4.61903300e-04,  -7.08003658e-03,\n",
       "        -1.16715178e-03,  -2.17870429e-04,  -5.98807767e-04,\n",
       "        -5.10837022e-03,   5.59047266e-03,   8.03422742e-04,\n",
       "        -1.41047227e-03,   5.09542280e-03,  -3.92107523e-03,\n",
       "         1.24707465e-03,   1.84906856e-03,  -2.47932872e-03,\n",
       "         1.47207972e-03,  -5.13758758e-03,  -2.41178425e-03,\n",
       "         5.57795913e-04,   2.41755411e-03,   1.54961874e-03,\n",
       "        -4.57892603e-03,   3.88412356e-03,   4.21398153e-04,\n",
       "        -9.34337185e-04,   1.60980302e-03,  -1.52912998e-03,\n",
       "        -5.00935146e-03,  -1.82845215e-03,  -3.86001517e-03,\n",
       "         2.00970135e-03,  -4.46829306e-03,  -1.85370116e-03,\n",
       "        -1.62605608e-03,  -8.79124346e-03,   1.20959305e-03,\n",
       "        -8.12710150e-04,   1.65301168e-03,   3.50786944e-03,\n",
       "        -3.77696316e-03,   5.47672746e-03,   2.58985577e-04,\n",
       "         5.04384132e-03,   1.53536986e-03,  -4.05402553e-03,\n",
       "        -1.38247366e-03,  -3.51602793e-04,  -2.71854919e-03,\n",
       "        -3.78689451e-03,   3.74525080e-03,   5.28550849e-03,\n",
       "        -4.49185599e-04,  -3.25072549e-04,   1.13470529e-03,\n",
       "        -2.80025698e-04,  -9.22230351e-04,  -3.22246150e-03,\n",
       "        -1.54836211e-03,   7.05308724e-04,   4.67670135e-03,\n",
       "        -1.40461176e-03,   2.70208949e-03,   1.80167107e-03,\n",
       "         2.03144509e-03,  -4.75326230e-03,  -8.01049289e-04,\n",
       "        -1.36400958e-03,  -5.34492979e-05,   1.72671631e-04,\n",
       "         5.21742653e-04,   8.75519611e-04,  -2.96110895e-04,\n",
       "         2.11531279e-03,   1.04209151e-05,   1.17871206e-03,\n",
       "         2.23829827e-03,   3.39695688e-03,  -5.42266743e-03,\n",
       "         2.92464196e-03,  -7.62678270e-04,  -1.44074532e-03,\n",
       "        -6.12726722e-03,   8.97243116e-04,  -1.07295656e-03,\n",
       "         3.20164705e-03,  -3.78859222e-03,  -4.71798081e-05,\n",
       "         2.31169906e-03,   2.30868238e-03,   4.14436587e-03,\n",
       "         1.10606019e-03,   1.38257051e-03,  -4.09765244e-04,\n",
       "         3.37314199e-03,   2.74201434e-04,  -4.16401070e-03,\n",
       "        -5.07689235e-03,   1.92295019e-03,   3.60141402e-03,\n",
       "        -2.34846319e-03,  -1.16666490e-03,  -2.72976740e-05,\n",
       "         6.25569375e-04,  -4.57759560e-04,   5.27777152e-03,\n",
       "        -1.69193087e-03,  -2.03672555e-03,   5.53089695e-03,\n",
       "        -4.71456023e-03,   1.76641884e-03,   5.44616288e-03,\n",
       "         1.25130596e-03,   1.69276490e-03,  -2.32513047e-03,\n",
       "         1.79390966e-03,  -6.01490217e-04,  -6.54682870e-03,\n",
       "        -3.93291206e-03,   5.66495694e-03,   4.64940180e-03,\n",
       "         1.84870489e-03,   8.47846718e-04,  -1.70500747e-03,\n",
       "        -2.00012379e-03,  -4.72781519e-03,  -4.03749392e-03,\n",
       "        -3.88692601e-03,   1.65294946e-03,   9.18144698e-03,\n",
       "        -7.37000005e-04,  -1.20850084e-03,   2.12552101e-03,\n",
       "         3.79671124e-03,   4.29599880e-04,   5.25332837e-03,\n",
       "        -1.23375022e-03,   2.52393702e-03,  -8.13881682e-04,\n",
       "         3.10071430e-03,  -1.61376203e-03,  -6.68592405e-04,\n",
       "         1.48024080e-03,   4.53988812e-03,  -1.92583620e-03,\n",
       "         3.35988323e-04,   9.49563425e-03,  -3.68602153e-04,\n",
       "        -3.29778730e-03,  -3.17819361e-03,   2.79627199e-03,\n",
       "         3.97263670e-03,   1.47848007e-03,   2.53281572e-03,\n",
       "        -1.70510471e-03,  -3.39269539e-03,   1.53858734e-03,\n",
       "        -1.25943124e-03,  -6.49664064e-03,   5.66791374e-03,\n",
       "         2.51447338e-04,   3.85321227e-03,  -2.10243152e-03,\n",
       "        -3.05716943e-03,  -5.20273895e-04,  -1.16467105e-04,\n",
       "         8.37256727e-03,   2.47802071e-04,   1.31492065e-03,\n",
       "         2.94590733e-03,  -3.75165576e-03,  -2.17724382e-03,\n",
       "        -4.23118297e-03,  -9.03834779e-03,  -2.32879547e-03,\n",
       "         2.50370438e-03,   2.42903730e-03,   4.56054178e-03,\n",
       "        -9.41339126e-04,   8.79095012e-04,  -1.53426047e-03,\n",
       "        -1.42362961e-04,  -1.91075979e-03,  -4.11041729e-03,\n",
       "         4.16007271e-03,  -4.04814182e-04,  -5.76334722e-03,\n",
       "        -2.01628142e-03,  -4.57013593e-03,   3.98921023e-03,\n",
       "        -3.85067129e-03,  -2.79196115e-04,   6.70371303e-03,\n",
       "        -7.99088681e-03,  -7.44158845e-03,  -4.93529910e-03,\n",
       "         3.87083603e-03,   3.50110621e-03,  -6.47681358e-04,\n",
       "        -5.43753840e-03,   1.47777143e-03,   2.84204353e-03,\n",
       "         6.15747643e-04,   5.63796664e-03,  -5.09268208e-03,\n",
       "        -1.18013501e-03,   8.86100029e-03,  -3.38245893e-04,\n",
       "        -2.70711915e-04,   3.81615579e-03,   5.78982730e-03,\n",
       "        -2.28697947e-03,  -6.00244485e-03,   1.64458500e-04,\n",
       "        -3.13451631e-03,   1.60138282e-04,   6.85299965e-03,\n",
       "        -6.69056422e-04,  -3.48306848e-03,  -2.67566799e-03,\n",
       "         4.42643854e-03,  -1.74687676e-05,  -4.96431051e-03,\n",
       "         1.02720123e-02,   7.54335643e-03,  -3.23054992e-03,\n",
       "         3.13495439e-03,  -4.76531377e-04,   1.65224541e-03,\n",
       "        -6.21069035e-06,  -4.18158712e-03,  -4.02040070e-04,\n",
       "         4.19026638e-03,  -3.37072905e-03,   8.84716416e-04,\n",
       "        -9.85459210e-04,   2.81356218e-04,  -1.18621842e-03,\n",
       "        -5.09388261e-03,  -2.62142563e-03,  -1.54501741e-03,\n",
       "        -2.04281447e-03,  -4.65811317e-03,  -2.55379312e-04,\n",
       "        -7.13969755e-04,   3.38103836e-04,  -3.59141006e-03,\n",
       "        -2.00185425e-03,  -7.31825575e-03,  -1.73361020e-03,\n",
       "        -4.62173623e-03,   4.88674247e-03,   6.07457669e-03,\n",
       "         2.03023541e-03,   6.98103051e-05,   4.82468529e-03,\n",
       "         2.10456196e-03,  -3.52018670e-03,  -1.99176776e-03,\n",
       "        -5.50154692e-04,  -1.00852366e-03,   9.06766170e-04,\n",
       "         5.44840110e-04,   6.24198826e-04,   3.26282893e-03,\n",
       "         6.64470348e-03,  -3.52208832e-04,  -7.53306832e-03,\n",
       "         1.66184226e-03,  -2.43634529e-03,   5.00352920e-03,\n",
       "         4.05366338e-03,   1.66643403e-03,  -1.02705229e-03,\n",
       "         1.88791963e-03,   8.06756364e-04,  -7.20081249e-03,\n",
       "        -5.30974564e-03,   9.26190782e-04,  -9.18429220e-04,\n",
       "         4.09193108e-03,   8.32666209e-03,   2.61358707e-03,\n",
       "         2.08340074e-03,  -3.02993546e-03,   1.90478661e-04,\n",
       "         2.86809588e-03,  -5.12361089e-03,   1.94628674e-04,\n",
       "         4.06829103e-06,  -1.34686146e-03,  -3.25464093e-03,\n",
       "         2.38667028e-03,   4.64162474e-03,  -1.57543333e-03,\n",
       "         8.66172461e-04,   2.14013234e-03,   4.10111715e-03,\n",
       "        -2.59708268e-03,  -1.70992083e-03,  -5.29106108e-04,\n",
       "         1.38522604e-03,  -2.27342288e-03,  -5.08737370e-03,\n",
       "         3.55304230e-04,  -2.49034594e-03,   2.85475526e-03,\n",
       "         6.29799541e-03,  -6.83003766e-04,  -5.81564278e-03,\n",
       "        -1.23533127e-04,   5.20304631e-03,   3.75330185e-03,\n",
       "        -4.52226861e-04,   5.69900355e-05,  -3.58604315e-03,\n",
       "         4.01257551e-03,   2.62558208e-03,   4.66628468e-03,\n",
       "        -3.58464049e-03,   1.86383941e-03,   5.92204955e-03,\n",
       "         1.08853180e-03,  -4.10621056e-03])"
      ]
     },
     "execution_count": 16,
     "metadata": {},
     "output_type": "execute_result"
    }
   ],
   "source": [
    "test_vec"
   ]
  },
  {
   "cell_type": "markdown",
   "metadata": {},
   "source": [
    "# Model: Find five most similar documents based on document vectors"
   ]
  },
  {
   "cell_type": "code",
   "execution_count": 17,
   "metadata": {
    "collapsed": true
   },
   "outputs": [],
   "source": [
    "# INDEX ON PAGE ID\n",
    "# Cosine similarity is one way to do this\n",
    "# The other approach is nearest neighbors (not a classifier)\n",
    "from sklearn.metrics.pairwise import cosine_similarity\n",
    "from sklearn.neighbors import NearestNeighbors"
   ]
  },
  {
   "cell_type": "code",
   "execution_count": 18,
   "metadata": {
    "collapsed": true
   },
   "outputs": [],
   "source": [
    "this_NN = NearestNeighbors()"
   ]
  },
  {
   "cell_type": "code",
   "execution_count": 19,
   "metadata": {
    "collapsed": false
   },
   "outputs": [
    {
     "data": {
      "text/plain": [
       "NearestNeighbors(algorithm='auto', leaf_size=30, metric='minkowski',\n",
       "         metric_params=None, n_jobs=1, n_neighbors=5, p=2, radius=1.0)"
      ]
     },
     "execution_count": 19,
     "metadata": {},
     "output_type": "execute_result"
    }
   ],
   "source": [
    "this_NN.fit(page_vectors_df)"
   ]
  },
  {
   "cell_type": "code",
   "execution_count": 20,
   "metadata": {
    "collapsed": false,
    "scrolled": true
   },
   "outputs": [
    {
     "name": "stderr",
     "output_type": "stream",
     "text": [
      "/Users/ginodefalco/anaconda/lib/python2.7/site-packages/sklearn/utils/validation.py:395: DeprecationWarning: Passing 1d arrays as data is deprecated in 0.17 and will raise ValueError in 0.19. Reshape your data either using X.reshape(-1, 1) if your data has a single feature or X.reshape(1, -1) if it contains a single sample.\n",
      "  DeprecationWarning)\n"
     ]
    },
    {
     "data": {
      "text/plain": [
       "(array([[ 0.25545628,  0.3564603 ,  0.37011145,  0.37979901,  0.38626868]]),\n",
       " array([[1172,  247,  795,  483,  566]]))"
      ]
     },
     "execution_count": 20,
     "metadata": {},
     "output_type": "execute_result"
    }
   ],
   "source": [
    "# first array are distances, second five are the indices\n",
    "tnn = this_NN.kneighbors(test_vec)\n",
    "tnn"
   ]
  },
  {
   "cell_type": "code",
   "execution_count": 21,
   "metadata": {
    "collapsed": false
   },
   "outputs": [
    {
     "data": {
      "text/plain": [
       "array([1172,  247,  795,  483,  566])"
      ]
     },
     "execution_count": 21,
     "metadata": {},
     "output_type": "execute_result"
    }
   ],
   "source": [
    "indices = tnn[1][0]\n",
    "indices"
   ]
  },
  {
   "cell_type": "code",
   "execution_count": 22,
   "metadata": {
    "collapsed": false
   },
   "outputs": [
    {
     "data": {
      "text/plain": [
       "Int64Index([8181732, 18007329, 2904185, 13846997, 38485157], dtype='int64')"
      ]
     },
     "execution_count": 22,
     "metadata": {},
     "output_type": "execute_result"
    }
   ],
   "source": [
    "pv = page_vectors_df.index[indices]\n",
    "pv"
   ]
  },
  {
   "cell_type": "markdown",
   "metadata": {},
   "source": [
    "# Mine: Retrieve text for the five most similar documents"
   ]
  },
  {
   "cell_type": "code",
   "execution_count": 23,
   "metadata": {
    "collapsed": false,
    "scrolled": true
   },
   "outputs": [
    {
     "name": "stdout",
     "output_type": "stream",
     "text": [
      "Connected to server joshuacook.me.\n"
     ]
    },
    {
     "data": {
      "text/plain": [
       "[(2904185,\n",
       "  'Simit (Turkish: simit, Arabic: \\xd8\\xb3\\xd9\\x85\\xd9\\x8a\\xd8\\xb7\\xe2\\x80\\x8e, translit. sam\\xc4\\xabt\\xcb\\xa4\\xe2\\x80\\x8e, Persian: \\xd8\\xb3\\xdb\\x8c\\xd9\\x85\\xdb\\x8c\\xd8\\xaa\\xe2\\x80\\x8e, translit',\n",
       "  'Simit (Turkish: simit, Arabic: \\xd8\\xb3\\xd9\\x85\\xd9\\x8a\\xd8\\xb7\\xe2\\x80\\x8e, translit. sam\\xc4\\xabt\\xcb\\xa4\\xe2\\x80\\x8e, Persian: \\xd8\\xb3\\xdb\\x8c\\xd9\\x85\\xdb\\x8c\\xd8\\xaa\\xe2\\x80\\x8e, translit. s\\xc4\\xabm\\xc4\\xabt\\xcb\\xa4\\xe2\\x80\\x8e, Bulgarian: \\xd1\\x81\\xd0\\xb8\\xd0\\xbc\\xd0\\xb8\\xd1\\x82  simit ), gevrek (Turkish: gevrek, Bulgarian: \\xd0\\xb3\\xd0\\xb5\\xd0\\xb2\\xd1\\x80\\xd0\\xb5\\xd0\\xba, Macedonian: \\xd1\\x93\\xd0\\xb5\\xd0\\xb2\\xd1\\x80\\xd0\\xb5\\xd0\\xba, Serbian: \\xd1\\x92\\xd0\\xb5\\xd0\\xb2\\xd1\\x80\\xd0\\xb5\\xd0\\xba), bokegh (Armenian: \\xd5\\xa2\\xd5\\xb8\\xd5\\xaf\\xd5\\xa5\\xd5\\xb2), or koulouri (Greek: \\xce\\xba\\xce\\xbf\\xcf\\x85\\xce\\xbb\\xce\\xbf\\xcf\\x8d\\xcf\\x81\\xce\\xb9) is a circular bread, typically encrusted with sesame seeds or, less commonly, poppy, flax or sunflower seeds, found across the cuisines of the former Ottoman Empire, and the Middle East. Simits size, crunch, chewiness, and other characteristics vary slightly by region. In \\xc4\\xb0zmir, simit is known as gevrek (\"crisp\"), although it is very similar to the Istanbul variety. Simits in Ankara are smaller and crisper than those of other cities. Simits in Istanbul are made with molasses. Name The word simit comes from Arabic sam\\xc4\\xabd (\\xd8\\xb3\\xd9\\x85\\xd9\\x8a\\xd8\\xaf) \"white bread\" or \"fine flour\". Other names are based on the Greek koulouri (\\xce\\xba\\xce\\xbf\\xcf\\x85\\xce\\xbb\\xce\\xbf\\xcf\\x8d\\xcf\\x81\\xce\\xb9): Aramaic qeluro qelora; or the Turkish gevrek: South Slavic \\xc4\\x91evrek, \\xd1\\x92\\xd0\\xb5\\xd0\\xb2\\xd1\\x80\\xd0\\xb5\\xd0\\xba, gjevrek, \\xd1\\x93\\xd0\\xb5\\xd0\\xb2\\xd1\\x80\\xd0\\xb5\\xd0\\xba, \\xd0\\xb3\\xd0\\xb5\\xd0\\xb2\\xd1\\x80\\xd0\\xb5\\xd0\\xba. Armenian \\xd5\\xa2\\xd5\\xb8\\xd5\\xaf\\xd5\\xa5\\xd5\\xb2 [bokegh]. In Judaeo-Spanish it is known as roskas turkas. Origins Simit has a long history in Istanbul. Archival sources show that the simit has been produced in Istanbul since 1525. Based on \\xc3\\x9csk\\xc3\\xbcdar court records (\\xc5\\x9eer\\xe2\\x80\\x99iyye Sicili) dated 1593, the weight and price of simit was standardized for the first time. The 17th-century traveler Evliya \\xc3\\x87elebi wrote that there were 70 simit bakeries in Istanbul during the 1630s. Jean Brindesis early 19th-century oil paintings about Istanbul daily life show simit sellers on the streets. Warwick Goble, too, made an illustration of these simit sellers of Istanbul in 1906. Simit and its variants became popular across the Ottoman Empire. Consumption Simit is generally served plain, or for breakfast with tea, fruit preserves, or cheese or ayran. Drinking tea with simit is traditional. Simit (\"Bokegh\" in Armenian) is a traditional Christmas bread in Armenia. Simits are sold by street vendors in Turkey, who either have a simit trolley or carry the simit in a tray on their head. Street merchants generally advertise simit as fresh (\"Taze simit!\" \"Taze gevrek!\") since they are baked throughout the day; otherwise hot (\"S\\xc4\\xb1cak, s\\xc4\\xb1cak!\") and extremely hot (\"El yak\\xc4\\xb1yor!\" means \"It burns the hand!\") when they are not long out of the oven. Simit is an important symbol for lower and middle-class people of Turkey. Sometimes it is called susam kebab\\xc4\\xb1 (\"sesame kebab\"). In other parts of the middle east it is consumed with boiled eggs and  or duggah which is a mixture of herbs used as condiments ,it is commonly used as a break of fast in holy makkah and Madeenah mosques with yougurt or buttermilk. Similar products Certain varieties of Romanian covrigi are similar to simit. Another type of bread similar to simit is known as obwarzanek (in particular obwarzanek krakowski) in Poland and bublik in Russia, Ukraine and Belarus. The main difference is that the rings of dough are poached briefly in boiling water prior to baking (similarly to bagels), instead of being dipped in water and molasses syrup, as is the case with simit. Girde (Uygur: \\xd0\\x93\\xd0\\xb8\\xd1\\x80\\xd0\\xb4\\xd0\\xb5), is a type of bread baked on the walls of tandoori oven, that is very similar to simit, and that the uygur t\\xc3\\xbcrks in China see as a characteristic item in their culture specific kitchen. See also Kaak Kandil simidi References'),\n",
       " (8181732,\n",
       "  'Lithuanian Footballer of the Year',\n",
       "  'Lithuanian Player of the Year is a football award. Winners 1965: Petras Glodenis ( \\xc5\\xbdalgiris Vilnius) 1966: Gintautas Kal\\xc4\\x97dinskas ( \\xc5\\xbdalgiris Vilnius) 1967: Stanislovas Ramelis ( \\xc5\\xbdalgiris Vilnius) 1968: Stanislovas Ramelis ( \\xc5\\xbdalgiris Vilnius) 1969: Juzefas Jurgelevi\\xc4\\x8dius ( \\xc5\\xbdalgiris Vilnius) 1970: Romualdas Ju\\xc5\\xa1ka ( \\xc5\\xbdalgiris Vilnius) 1971: Benjaminas Zelkevi\\xc4\\x8dius ( \\xc5\\xbdalgiris Vilnius) 1972: Benjaminas Zelkevi\\xc4\\x8dius ( \\xc5\\xbdalgiris Vilnius) 1973: Petras Glodenis ( \\xc5\\xbdalgiris Vilnius) 1974: Algirdas \\xc5\\xbdilinskas ( \\xc5\\xbdalgiris Vilnius) 1975: Vytautas Dirmeikis ( \\xc5\\xbdalgiris Vilnius) 1976: Eugenijus Riabovas ( \\xc5\\xbdalgiris Vilnius) 1977: Eugenijus Riabovas ( \\xc5\\xbdalgiris Vilnius) 1978: Eugenijus Riabovas ( \\xc5\\xbdalgiris Vilnius) 1979: Stanislovas Danisevi\\xc4\\x8dius ( \\xc5\\xbdalgiris Vilnius) 1980: Juzefas Jurgelevi\\xc4\\x8dius ( \\xc5\\xbdalgiris Vilnius) 1981: Vytautas Dirmeikis ( \\xc5\\xbdalgiris Vilnius) 1982: Sigitas Jakubauskas ( \\xc5\\xbdalgiris Vilnius) 1983: Valdas Kasparavi\\xc4\\x8dius ( \\xc5\\xbdalgiris Vilnius) 1984: Stanislovas Danisevi\\xc4\\x8dius ( \\xc5\\xbdalgiris Vilnius) 1988: Arminas Narbekovas ( \\xc5\\xbdalgiris Vilnius) 1989: Valdemaras Martink\\xc4\\x97nas ( \\xc5\\xbdalgiris Vilnius) 1990: Valdas Ivanauskas ( Austria Wien) 1991: Valdas Ivanauskas ( Austria Wien) 1992: Valdemaras Martink\\xc4\\x97nas ( Dynamo Kiev) 1993: Valdas Ivanauskas ( Hamburger SV) 1994: Valdas Ivanauskas ( Hamburger SV) 1995: Gintaras Stau\\xc4\\x8d\\xc4\\x97 ( Kar\\xc5\\x9f\\xc4\\xb1yaka SK) 1996: Gintaras Stau\\xc4\\x8d\\xc4\\x97 ( Sar\\xc4\\xb1yer GK) 1997: Edgaras Jankauskas ( Club Brugge) 1998: Edgaras Jankauskas ( Club Brugge) 1999: Saulius Mikalaj\\xc5\\xabnas ( Uralan Elista) 2000: Edgaras Jankauskas ( Real Sociedad) 2001: Edgaras Jankauskas ( Real Sociedad) 2002: Raimondas \\xc5\\xbdutautas ( Maccabi Haifa FC) 2003: Robertas Po\\xc5\\xa1kus ( Krylya Sovetov Samara) 2004: Edgaras Jankauskas ( OGC Nice) 2005: Deividas \\xc5\\xa0emberas ( PFC CSKA Moscow) 2006: Tomas Danilevi\\xc4\\x8dius ( AS Livorno Calcio) 2007: Tomas Danilevi\\xc4\\x8dius ( Bologna FC 1909) 2008: Marius Stankevi\\xc4\\x8dius ( UC Sampdoria) 2009: Marius Stankevi\\xc4\\x8dius ( UC Sampdoria) 2010: Darvydas \\xc5\\xa0ernas ( Widzew \\xc5\\x81\\xc3\\xb3d\\xc5\\xba) 2011: \\xc5\\xbdydr\\xc5\\xabnas Kar\\xc4\\x8demarskas ( Gaziantepspor) 2012: \\xc5\\xbdydr\\xc5\\xabnas Kar\\xc4\\x8demarskas ( Gaziantepspor) 2013: Mindaugas Kalonas ( Baku FC) 2014: Giedrius Arlauskis ( Steaua Bucure\\xc8\\x99ti) 2015: Lukas Spalvis ( Aalborg BK) 2016: Fiodor \\xc4\\x8cernych ( Jagiellonia Bia\\xc5\\x82ystok) External links uefa.com'),\n",
       " (13846997,\n",
       "  'Covin (automobile)',\n",
       "  'The Covin is a replica kit car of the Porsche 911 Turbo created by Tim Cook and Nick Vincent in the early 1980s. The name Covin came about from CO (Cook) and VIN (Vincent) giving us COVIN Performance Mouldings. Early models of the Covin were based on a shortened Beetle floorpan running gear but later used its own Covin chassis and VW Type 3 running gear. The company was sold in the 1990s to DAX and later moved to new owners GPC and was relocated to County Galway in Ireland where unfortunately up to now the Covin has not been produced again. The Covin came in 3 body styles all based on the Turbo model. These were, Flatnose and Coupe, both were also available in a convertible version. There is also known to be only one narrow body Covin ever made. Covin also produced a few 356 Speedster models but these are rather rare. Some Covin units even run real Porsche 911 engines. The Covin Club The Covin Owners Club is run by Darren Parker (Club Technical Adviser) & Club Secretary Michael Dykes. It is considered the best resource on the web for these vehicles. As of 2015 the Covin forum has 378 members, 24487 pots, covering 2762 topics. External links Covin website Covin Forum'),\n",
       " (18007329,\n",
       "  'List of karate terms',\n",
       "  'Karate terms come almost entirely from Japanese. The following terms are not exclusive to karate. They appear during its study and practice, varying depending on style and school. Karate terms include: C Chito-ryu D Dan \\xe2\\x80\\x93 Dojo G Gi \\xe2\\x80\\x93 Goju-ryu - H Hajime \\xe2\\x80\\x93 Heian K Karate \\xe2\\x80\\x93 Kata \\xe2\\x80\\x93 Kihon \\xe2\\x80\\x93 Kohai \\xe2\\x80\\x93 Kumite \\xe2\\x80\\x93 Ky\\xc5\\xab O Osu R Rei S Senpai \\xe2\\x80\\x93 Sensei \\xe2\\x80\\x93 Shihan \\xe2\\x80\\x93 Shotokan \\xe2\\x80\\x93 S\\xc5\\x8dke W Waza Z Zanshin See also References External links'),\n",
       " (38485157,\n",
       "  'Duong sinh',\n",
       "  'The exercise d\\xc6\\xb0\\xe1\\xbb\\xa1ng sinh or D\\xc6\\xb0\\xe1\\xbb\\xa1ng Sinh (compare Chinese Yang-Sheng \\xe9\\xa4\\x8a\\xe7\\x94\\x9f) is a form of partly indigenous breathing and yoga exercise similar to Tai Chi popularized in Vietnam by the historian and political activist Nguy\\xe1\\xbb\\x85n Kh\\xe1\\xba\\xafc Vi\\xe1\\xbb\\x87n. Vi\\xe1\\xbb\\x87n had been trained as a medical doctor in the field of womens and childrens psychotherapy. When he himself was given three years to live he turned to practice of traditional breathing exercises. However although the name \"d\\xc6\\xb0\\xe1\\xbb\\xa1ng sinh\" was popularised by Vi\\xe1\\xbb\\x87n in T\\xe1\\xbb\\xab sinh l\\xc3\\xbd \\xc4\\x91\\xe1\\xba\\xbfn d\\xc6\\xb0\\xe1\\xbb\\xa1ng sinh and other books, the idea of \"d\\xc6\\xb0\\xe1\\xbb\\xa1ng sinh\" is well known to village people anyway as a compliment to thu\\xe1\\xbb\\x91c Nam herbal medicine. References')]"
      ]
     },
     "execution_count": 23,
     "metadata": {},
     "output_type": "execute_result"
    }
   ],
   "source": [
    "db.select_pages(pv)"
   ]
  },
  {
   "cell_type": "code",
   "execution_count": null,
   "metadata": {
    "collapsed": true
   },
   "outputs": [],
   "source": [
    "from sklearn.metrics.pairwise import cosine_similarity"
   ]
  },
  {
   "cell_type": "code",
   "execution_count": null,
   "metadata": {
    "collapsed": true
   },
   "outputs": [],
   "source": [
    "cosine_similarity(search_vector_doc.values()[0],search_vector2.values()[0])[0][0] #Kobe Bryant"
   ]
  },
  {
   "cell_type": "markdown",
   "metadata": {},
   "source": [
    "# Mine: Select document vectors for all pages from database"
   ]
  },
  {
   "cell_type": "code",
   "execution_count": 24,
   "metadata": {
    "collapsed": true
   },
   "outputs": [],
   "source": [
    "vecdict = {}\n",
    "for page_id, vec in page_vectors:\n",
    "    vecdict[page_id] = vec\n",
    "    "
   ]
  },
  {
   "cell_type": "code",
   "execution_count": 25,
   "metadata": {
    "collapsed": false
   },
   "outputs": [
    {
     "data": {
      "text/html": [
       "<div>\n",
       "<table border=\"1\" class=\"dataframe\">\n",
       "  <thead>\n",
       "    <tr style=\"text-align: right;\">\n",
       "      <th></th>\n",
       "      <th>0</th>\n",
       "      <th>1</th>\n",
       "      <th>2</th>\n",
       "      <th>3</th>\n",
       "      <th>4</th>\n",
       "      <th>5</th>\n",
       "      <th>6</th>\n",
       "      <th>7</th>\n",
       "      <th>8</th>\n",
       "      <th>9</th>\n",
       "      <th>...</th>\n",
       "      <th>490</th>\n",
       "      <th>491</th>\n",
       "      <th>492</th>\n",
       "      <th>493</th>\n",
       "      <th>494</th>\n",
       "      <th>495</th>\n",
       "      <th>496</th>\n",
       "      <th>497</th>\n",
       "      <th>498</th>\n",
       "      <th>499</th>\n",
       "    </tr>\n",
       "  </thead>\n",
       "  <tbody>\n",
       "    <tr>\n",
       "      <th>17645570</th>\n",
       "      <td>0.039274</td>\n",
       "      <td>0.055023</td>\n",
       "      <td>-0.014005</td>\n",
       "      <td>-0.016520</td>\n",
       "      <td>0.022691</td>\n",
       "      <td>-0.018724</td>\n",
       "      <td>0.002756</td>\n",
       "      <td>0.005556</td>\n",
       "      <td>-0.005737</td>\n",
       "      <td>-0.009030</td>\n",
       "      <td>...</td>\n",
       "      <td>-0.010056</td>\n",
       "      <td>-0.014171</td>\n",
       "      <td>-0.013905</td>\n",
       "      <td>0.003224</td>\n",
       "      <td>0.005246</td>\n",
       "      <td>0.004800</td>\n",
       "      <td>0.032152</td>\n",
       "      <td>0.011491</td>\n",
       "      <td>0.022782</td>\n",
       "      <td>0.003275</td>\n",
       "    </tr>\n",
       "    <tr>\n",
       "      <th>37019651</th>\n",
       "      <td>0.101253</td>\n",
       "      <td>0.161288</td>\n",
       "      <td>-0.224323</td>\n",
       "      <td>0.112926</td>\n",
       "      <td>-0.060645</td>\n",
       "      <td>0.066798</td>\n",
       "      <td>0.023622</td>\n",
       "      <td>0.008715</td>\n",
       "      <td>-0.017338</td>\n",
       "      <td>0.008191</td>\n",
       "      <td>...</td>\n",
       "      <td>-0.001198</td>\n",
       "      <td>-0.016804</td>\n",
       "      <td>-0.015773</td>\n",
       "      <td>-0.009290</td>\n",
       "      <td>-0.000526</td>\n",
       "      <td>0.004315</td>\n",
       "      <td>-0.003473</td>\n",
       "      <td>0.003300</td>\n",
       "      <td>-0.009625</td>\n",
       "      <td>-0.005633</td>\n",
       "    </tr>\n",
       "    <tr>\n",
       "      <th>9109512</th>\n",
       "      <td>0.039232</td>\n",
       "      <td>0.039217</td>\n",
       "      <td>0.008973</td>\n",
       "      <td>-0.047728</td>\n",
       "      <td>-0.015612</td>\n",
       "      <td>0.017161</td>\n",
       "      <td>0.000355</td>\n",
       "      <td>-0.002134</td>\n",
       "      <td>-0.002816</td>\n",
       "      <td>-0.015128</td>\n",
       "      <td>...</td>\n",
       "      <td>0.031067</td>\n",
       "      <td>0.011480</td>\n",
       "      <td>-0.021530</td>\n",
       "      <td>-0.004341</td>\n",
       "      <td>0.004190</td>\n",
       "      <td>0.044702</td>\n",
       "      <td>0.011483</td>\n",
       "      <td>-0.013307</td>\n",
       "      <td>-0.031249</td>\n",
       "      <td>-0.063539</td>\n",
       "    </tr>\n",
       "    <tr>\n",
       "      <th>45260809</th>\n",
       "      <td>0.186930</td>\n",
       "      <td>-0.060678</td>\n",
       "      <td>-0.004299</td>\n",
       "      <td>0.012090</td>\n",
       "      <td>0.001639</td>\n",
       "      <td>-0.007242</td>\n",
       "      <td>0.005464</td>\n",
       "      <td>-0.005203</td>\n",
       "      <td>0.001449</td>\n",
       "      <td>0.013998</td>\n",
       "      <td>...</td>\n",
       "      <td>0.019338</td>\n",
       "      <td>-0.001007</td>\n",
       "      <td>0.019923</td>\n",
       "      <td>0.030012</td>\n",
       "      <td>0.018544</td>\n",
       "      <td>-0.058307</td>\n",
       "      <td>-0.000886</td>\n",
       "      <td>-0.040026</td>\n",
       "      <td>-0.012019</td>\n",
       "      <td>0.010476</td>\n",
       "    </tr>\n",
       "    <tr>\n",
       "      <th>6565890</th>\n",
       "      <td>0.067058</td>\n",
       "      <td>0.092235</td>\n",
       "      <td>-0.103929</td>\n",
       "      <td>0.040591</td>\n",
       "      <td>-0.002851</td>\n",
       "      <td>0.008336</td>\n",
       "      <td>-0.013674</td>\n",
       "      <td>-0.000052</td>\n",
       "      <td>0.021902</td>\n",
       "      <td>-0.000659</td>\n",
       "      <td>...</td>\n",
       "      <td>0.006890</td>\n",
       "      <td>0.005918</td>\n",
       "      <td>-0.003518</td>\n",
       "      <td>-0.013995</td>\n",
       "      <td>-0.002671</td>\n",
       "      <td>0.020586</td>\n",
       "      <td>0.001678</td>\n",
       "      <td>-0.004499</td>\n",
       "      <td>0.003813</td>\n",
       "      <td>-0.016608</td>\n",
       "    </tr>\n",
       "  </tbody>\n",
       "</table>\n",
       "<p>5 rows × 500 columns</p>\n",
       "</div>"
      ],
      "text/plain": [
       "               0         1         2         3         4         5    \\\n",
       "17645570  0.039274  0.055023 -0.014005 -0.016520  0.022691 -0.018724   \n",
       "37019651  0.101253  0.161288 -0.224323  0.112926 -0.060645  0.066798   \n",
       "9109512   0.039232  0.039217  0.008973 -0.047728 -0.015612  0.017161   \n",
       "45260809  0.186930 -0.060678 -0.004299  0.012090  0.001639 -0.007242   \n",
       "6565890   0.067058  0.092235 -0.103929  0.040591 -0.002851  0.008336   \n",
       "\n",
       "               6         7         8         9      ...          490  \\\n",
       "17645570  0.002756  0.005556 -0.005737 -0.009030    ...    -0.010056   \n",
       "37019651  0.023622  0.008715 -0.017338  0.008191    ...    -0.001198   \n",
       "9109512   0.000355 -0.002134 -0.002816 -0.015128    ...     0.031067   \n",
       "45260809  0.005464 -0.005203  0.001449  0.013998    ...     0.019338   \n",
       "6565890  -0.013674 -0.000052  0.021902 -0.000659    ...     0.006890   \n",
       "\n",
       "               491       492       493       494       495       496  \\\n",
       "17645570 -0.014171 -0.013905  0.003224  0.005246  0.004800  0.032152   \n",
       "37019651 -0.016804 -0.015773 -0.009290 -0.000526  0.004315 -0.003473   \n",
       "9109512   0.011480 -0.021530 -0.004341  0.004190  0.044702  0.011483   \n",
       "45260809 -0.001007  0.019923  0.030012  0.018544 -0.058307 -0.000886   \n",
       "6565890   0.005918 -0.003518 -0.013995 -0.002671  0.020586  0.001678   \n",
       "\n",
       "               497       498       499  \n",
       "17645570  0.011491  0.022782  0.003275  \n",
       "37019651  0.003300 -0.009625 -0.005633  \n",
       "9109512  -0.013307 -0.031249 -0.063539  \n",
       "45260809 -0.040026 -0.012019  0.010476  \n",
       "6565890  -0.004499  0.003813 -0.016608  \n",
       "\n",
       "[5 rows x 500 columns]"
      ]
     },
     "execution_count": 25,
     "metadata": {},
     "output_type": "execute_result"
    }
   ],
   "source": [
    "vec_df = pd.DataFrame.from_dict(vecdict, orient='index')\n",
    "vec_df.head()"
   ]
  }
 ],
 "metadata": {
  "anaconda-cloud": {},
  "kernelspec": {
   "display_name": "Python [conda root]",
   "language": "python",
   "name": "conda-root-py"
  },
  "language_info": {
   "codemirror_mode": {
    "name": "ipython",
    "version": 2
   },
   "file_extension": ".py",
   "mimetype": "text/x-python",
   "name": "python",
   "nbconvert_exporter": "python",
   "pygments_lexer": "ipython2",
   "version": "2.7.12"
  }
 },
 "nbformat": 4,
 "nbformat_minor": 1
}
