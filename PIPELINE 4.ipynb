{
 "cells": [
  {
   "cell_type": "markdown",
   "metadata": {},
   "source": [
    "# PROJECT 6\n",
    "# PIPELINE 4: PREDICT"
   ]
  },
  {
   "cell_type": "markdown",
   "metadata": {},
   "source": [
    "# Mine: Query Wikipedia by page ID for content"
   ]
  },
  {
   "cell_type": "code",
   "execution_count": 1,
   "metadata": {
    "collapsed": false
   },
   "outputs": [],
   "source": [
    "import os\n",
    "os.chdir('./lib')"
   ]
  },
  {
   "cell_type": "code",
   "execution_count": 2,
   "metadata": {
    "collapsed": true
   },
   "outputs": [],
   "source": [
    "import database_module_updt as db\n",
    "import encoding_module as enc\n",
    "import wiki_module_copy as wiki\n",
    "import pandas as pd\n",
    "import numpy as np"
   ]
  },
  {
   "cell_type": "code",
   "execution_count": 3,
   "metadata": {
    "collapsed": false
   },
   "outputs": [
    {
     "name": "stdout",
     "output_type": "stream",
     "text": [
      "Connected to server joshuacook.me.\n"
     ]
    },
    {
     "data": {
      "text/plain": [
       "(<connection object at 0x1158b1180; dsn: 'user=gino password=xxxxxxxxxxx she wagon equator' host=joshuacook.me port=5432 dbname=project_6', closed: 0>,\n",
       " <cursor object at 0x1157d5908; closed: 0>)"
      ]
     },
     "execution_count": 3,
     "metadata": {},
     "output_type": "execute_result"
    }
   ],
   "source": [
    "db.connect_to_postgres()"
   ]
  },
  {
   "cell_type": "code",
   "execution_count": 4,
   "metadata": {
    "collapsed": false
   },
   "outputs": [
    {
     "ename": "IndentationError",
     "evalue": "unexpected indent (<ipython-input-4-ba872c8b0817>, line 3)",
     "output_type": "error",
     "traceback": [
      "\u001b[0;36m  File \u001b[0;32m\"<ipython-input-4-ba872c8b0817>\"\u001b[0;36m, line \u001b[0;32m3\u001b[0m\n\u001b[0;31m    <script>(window.RLQ=window.RLQ||[]).push(function(){mw.config.set({\"wgCanonicalNamespace\":\"\",\"wgCanonicalSpecialPageName\":false,\"wgNamespaceNumber\":0,\"wgPageName\":\"Stochastic_gradient_descent\",\"wgTitle\":\"Stochastic gradient descent\",\"wgCurRevisionId\":763294256,\"wgRevisionId\":763294256,\"wgArticleId\":1180641,\"wgIsArticle\":true,\"wgIsRedirect\":false,\"wgAction\":\"view\",\"wgUserName\":null,\"wgUserGroups\":[\"*\"],\"wgCategories\":[\"Articles with inconsistent citation formats\",\"All articles with unsourced statements\",\"Articles with unsourced statements from July 2015\",\"Stochastic optimization\",\"Computational statistics\",\"M-estimators\",\"Machine learning algorithms\",\"Convex optimization\",\"Statistical approximations\"],\"wgBreakFrames\":false,\"wgPageContentLanguage\":\"en\",\"wgPageContentModel\":\"wikitext\",\"wgSeparatorTransformTable\":[\"\",\"\"],\"wgDigitTransformTable\":[\"\",\"\"],\"wgDefaultDateFormat\":\"dmy\",\"wgMonthNames\":[\"\",\"January\",\"February\",\"March\",\"April\",\"May\",\"June\",\"July\",\"August\",\"September\",\"October\",\"November\",\"December\"],\"wgMonthNamesShort\":\u001b[0m\n\u001b[0m    ^\u001b[0m\n\u001b[0;31mIndentationError\u001b[0m\u001b[0;31m:\u001b[0m unexpected indent\n"
     ]
    }
   ],
   "source": [
    "### Random page ID\n",
    "\n",
    " <script>(window.RLQ=window.RLQ||[]).push(function(){mw.config.set({\"wgCanonicalNamespace\":\"\"\\\n",
    ",\"wgCanonicalSpecialPageName\":false,\"wgNamespaceNumber\":0,\"wgPageName\":\"Stochastic_gradient_descent\",\\\n",
    "\"wgTitle\":\"Stochastic gradient descent\",\"wgCurRevisionId\":763294256,\"wgRevisionId\":763294256,\"wgArticleId\":1180641,\\\n",
    "\"wgIsArticle\":true,\"wgIsRedirect\":false,\"wgAction\":\"view\",\"wgUserName\":null,\"wgUserGroups\":[\"*\"],\"wgCategories\":\\\n",
    "[\"Articles with inconsistent citation formats\",\"All articles with unsourced statements\",\\\n",
    "\"Articles with unsourced statements from July 2015\",\"Stochastic optimization\",\"Computational statistics\",\\\n",
    "\"M-estimators\",\"Machine learning algorithms\",\"Convex optimization\",\"Statistical approximations\"],\\\n",
    "\"wgBreakFrames\":false,\"wgPageContentLanguage\":\"en\",\"wgPageContentModel\":\"wikitext\",\"wgSeparatorTransformTable\":[\"\",\"\"]\\\n",
    ",\"wgDigitTransformTable\":[\"\",\"\"],\"wgDefaultDateFormat\":\"dmy\",\"wgMonthNames\":[\"\",\"January\",\"February\",\\\n",
    "\"March\",\"April\",\"May\",\"June\",\"July\",\"August\",\"September\",\"October\",\"November\",\"December\"],\"wgMonthNamesShort\":\n",
    "                                                                   \n",
    "                                                                   \n",
    "                                                                   \n",
    "                                                                   \n",
    "                                                                   \n",
    "                                                                   \n",
    "                                                                   \n",
    "                                                                   \n",
    "                                                                   \n",
    "                                                                   "
   ]
  },
  {
   "cell_type": "code",
   "execution_count": 5,
   "metadata": {
    "collapsed": false,
    "scrolled": false
   },
   "outputs": [
    {
     "data": {
      "text/plain": [
       "u'Stochastic gradient descent (often shortened in SGD), also known as incremental gradient descent, is a stochastic approximation of the gradient descent optimization method for minimizing an objective function that is written as a sum of differentiable functions. In other words, SGD tries to find minimums or maximums by iteration. Background Both statistical estimation and machine learning consider the problem of minimizing an objective function that has the form of a sum: Q ( w ) = 1 n \\u2211 i = 1 n Q i ( w ) , {\\\\displaystyle Q(w)={\\\\frac {1}{n}}\\\\sum _{i=1}^{n}Q_{i}(w),} where the parameter w {\\\\displaystyle w} which minimizes Q ( w ) {\\\\displaystyle Q(w)} is to be estimated. Each summand function Q i {\\\\displaystyle Q_{i}} is typically associated with the i {\\\\displaystyle i} -th observation in the data set (used for training). In classical statistics, sum-minimization problems arise in least squares and in maximum-likelihood estimation (for independent observations). The general class of estimators that arise as minimizers of sums are called M-estimators. However, in statistics, it has been long recognized that requiring even local minimization is too restrictive for some problems of maximum-likelihood estimation. Therefore, contemporary statistical theorists often consider stationary points of the likelihood function (or zeros of its derivative, the score function, and other estimating equations). The sum-minimization problem also arises for empirical risk minimization: In this case, Q i ( w ) {\\\\displaystyle Q_{i}(w)} is the value of the loss function at i {\\\\displaystyle i} -th example, and Q ( w ) {\\\\displaystyle Q(w)} is the empirical risk. When used to minimize the above function, a standard (or \"batch\") gradient descent method would perform the following iterations : w := w \\u2212 \\u03b7 \\u2207 Q ( w ) = w \\u2212 \\u03b7 \\u2211 i = 1 n \\u2207 Q i ( w ) , {\\\\displaystyle w:=w-\\\\eta \\\\nabla Q(w)=w-\\\\eta \\\\sum _{i=1}^{n}\\\\nabla Q_{i}(w),} where \\u03b7 {\\\\displaystyle \\\\eta } is a step size (sometimes called the learning rate in machine learning). In many cases, the summand functions have a simple form that enables inexpensive evaluations of the sum-function and the sum gradient. For example, in statistics, one-parameter exponential families allow economical function-evaluations and gradient-evaluations. However, in other cases, evaluating the sum-gradient may require expensive evaluations of the gradients from all summand functions. When the training set is enormous and no simple formulas exist, evaluating the sums of gradients becomes very expensive, because evaluating the gradient requires evaluating all the summand functions gradients. To economize on the computational cost at every iteration, stochastic gradient descent samples a subset of summand functions at every step. This is very effective in the case of large-scale machine learning problems. Iterative method In stochastic (or \"on-line\") gradient descent, the true gradient of Q ( w ) {\\\\displaystyle Q(w)} is approximated by a gradient at a single example: w := w \\u2212 \\u03b7 \\u2207 Q i ( w ) . {\\\\displaystyle w:=w-\\\\eta \\\\nabla Q_{i}(w).} As the algorithm sweeps through the training set, it performs the above update for each training example. Several passes can be made over the training set until the algorithm converges. If this is done, the data can be shuffled for each pass to prevent cycles. Typical implementations may use an adaptive learning rate so that the algorithm converges. In pseudocode, stochastic gradient descent can be presented as follows: A compromise between computing the true gradient and the gradient at a single example, is to compute the gradient against more than one training example (called a \"mini-batch\") at each step. This can perform significantly better than true stochastic gradient descent because the code can make use of vectorization libraries rather than computing each step separately. It may also result in smoother convergence, as the gradient computed at each step uses more training examples. The convergence of stochastic gradient descent has been analyzed using the theories of convex minimization and of stochastic approximation. Briefly, when the learning rates \\u03b7 {\\\\displaystyle \\\\eta } decrease with an appropriate rate, and subject to relatively mild assumptions, stochastic gradient descent converges almost surely to a global minimum when the objective function is convex or pseudoconvex, and otherwise converges almost surely to a local minimum. This is in fact a consequence of the Robbins-Siegmund theorem. Example Lets suppose we want to fit a straight line y = w 1 + w 2 x {\\\\displaystyle y=\\\\!w_{1}+w_{2}x} to a training set of two-dimensional points ( x 1 , y 1 ) , \\u2026 , ( x n , y n ) {\\\\displaystyle (x_{1},y_{1}),\\\\ldots ,(x_{n},y_{n})} using least squares. The objective function to be minimized is: Q ( w ) = \\u2211 i = 1 n Q i ( w ) = \\u2211 i = 1 n ( w 1 + w 2 x i \\u2212 y i ) 2 . {\\\\displaystyle Q(w)=\\\\sum _{i=1}^{n}Q_{i}(w)=\\\\sum _{i=1}^{n}\\\\left(w_{1}+w_{2}x_{i}-y_{i}\\\\right)^{2}.} The last line in the above pseudocode for this specific problem will become: [ w 1 w 2 ] := [ w 1 w 2 ] \\u2212 \\u03b7 [ 2 ( w 1 + w 2 x i \\u2212 y i ) 2 x i ( w 1 + w 2 x i \\u2212 y i ) ] . {\\\\displaystyle {\\\\begin{bmatrix}w_{1}\\\\\\\\w_{2}\\\\end{bmatrix}}:={\\\\begin{bmatrix}w_{1}\\\\\\\\w_{2}\\\\end{bmatrix}}-\\\\eta {\\\\begin{bmatrix}2(w_{1}+w_{2}x_{i}-y_{i})\\\\\\\\2x_{i}(w_{1}+w_{2}x_{i}-y_{i})\\\\end{bmatrix}}.} Applications Stochastic gradient descent is a popular algorithm for training a wide range of models in machine learning, including (linear) support vector machines, logistic regression (see, e.g., Vowpal Wabbit) and graphical models. When combined with the backpropagation algorithm, it is the de facto standard algorithm for training artificial neural networks. Stochastic gradient descent competes with the L-BFGS algorithm, which is also widely used. Stochastic gradient descent has been used since at least 1960 for training linear regression models, originally under the name ADALINE. Another popular stochastic gradient descent algorithm is the least mean squares (LMS) adaptive filter. Extensions and variants Many improvements on the basic stochastic gradient descent algorithm have been proposed and used. In particular, in machine learning, the need to set a learning rate (step size) has been recognized as problematic. Setting this parameter too high can cause the algorithm to diverge; setting it too low makes it slow to converge. A conceptually simple extension of stochastic gradient descent makes the learning rate a decreasing function \\u03b7t of the iteration number t, giving a learning rate schedule, so that the first iterations cause large changes in the parameters, while the later ones do only fine-tuning. Such schedules have been known since the work of MacQueen on k-means clustering. Momentum Further proposals include the momentum method, which appeared in Rumelhart, Hinton and Williams seminal paper on backpropagation learning. Stochastic gradient descent with momentum remembers the update \\u0394 w at each iteration, and determines the next update as a convex combination of the gradient and the previous update: \\u0394 w := \\u03b7 \\u2207 Q i ( w ) + \\u03b1 \\u0394 w {\\\\displaystyle \\\\Delta w:=\\\\eta \\\\nabla Q_{i}(w)+\\\\alpha \\\\Delta w} w := w \\u2212 \\u0394 w {\\\\displaystyle w:=w-\\\\Delta w} or as a mathematically equivalent formulation: \\u0394 w := \\u2212 \\u03b7 \\u2207 Q i ( w ) + \\u03b1 \\u0394 w {\\\\displaystyle \\\\Delta w:=-\\\\eta \\\\nabla Q_{i}(w)+\\\\alpha \\\\Delta w} w := w + \\u0394 w {\\\\displaystyle w:=w+\\\\Delta w} that leads to: w := w \\u2212 \\u03b7 \\u2207 Q i ( w ) + \\u03b1 \\u0394 w {\\\\displaystyle w:=w-\\\\eta \\\\nabla Q_{i}(w)+\\\\alpha \\\\Delta w} where the parameter w {\\\\displaystyle w} which minimizes Q ( w ) {\\\\displaystyle Q(w)} is to be estimated, and \\u03b7 {\\\\displaystyle \\\\eta } is a step size (sometimes called the learning rate in machine learning). The name momentum stems from an analogy to momentum in physics: the weight vector, thought of as a particle traveling through parameter space, incurs acceleration from the gradient of the loss (\"force\"). Unlike in classical stochastic gradient descent, it tends to keep traveling in the same direction, preventing oscillations. Momentum has been used successfully for several decades. Averaging Averaged stochastic gradient descent, invented independently by Ruppert and Polyak in the late 1980s, is ordinary stochastic gradient descent that records an average of its parameter vector over time. That is, the update is the same as for ordinary stochastic gradient descent, but the algorithm also keeps track of w \\xaf = 1 t \\u2211 i = 0 t \\u2212 1 w i {\\\\displaystyle {\\\\bar {w}}={\\\\frac {1}{t}}\\\\sum _{i=0}^{t-1}w_{i}} . When optimization is done, this averaged parameter vector takes the place of w. AdaGrad AdaGrad (for adaptive gradient algorithm) is a modified stochastic gradient descent with per-parameter learning rate, first published in 2011. Informally, this increases the learning rate for more sparse parameters and decreases the learning rate for less sparse ones. This strategy often improves convergence performance over standard stochastic gradient descent in settings where data is sparse and sparse parameters are more informative. Examples of such applications include natural language processing and image recognition. It still has a base learning rate \\u03b7, but this is multiplied with the elements of a vector {Gj,j} which is the diagonal of the outer product matrix. G = \\u2211 \\u03c4 = 1 t g \\u03c4 g \\u03c4 T {\\\\displaystyle G=\\\\sum _{\\\\tau =1}^{t}g_{\\\\tau }g_{\\\\tau }^{\\\\mathsf {T}}} where g \\u03c4 = \\u2207 Q i ( w ) {\\\\displaystyle g_{\\\\tau }=\\\\nabla Q_{i}(w)} , the gradient, at iteration \\u03c4. The diagonal is given by G j , j = \\u2211 \\u03c4 = 1 t g \\u03c4 , j 2 {\\\\displaystyle G_{j,j}=\\\\sum _{\\\\tau =1}^{t}g_{\\\\tau ,j}^{2}} . This vector is updated after every iteration. The formula for an update is now w := w \\u2212 \\u03b7 d i a g ( G ) \\u2212 1 2 \\u2218 g {\\\\displaystyle w:=w-\\\\eta \\\\,\\\\mathrm {diag} (G)^{-{\\\\frac {1}{2}}}\\\\circ g} or, written as per-parameter updates, w j := w j \\u2212 \\u03b7 G j , j g j . {\\\\displaystyle w_{j}:=w_{j}-{\\\\frac {\\\\eta }{\\\\sqrt {G_{j,j}}}}g_{j}.} Each {G(i,i)} gives rise to a scaling factor for the learning rate that applies to a single parameter wi. Since the denominator in this factor, G i = \\u2211 \\u03c4 = 1 t g \\u03c4 2 {\\\\displaystyle {\\\\sqrt {G_{i}}}={\\\\sqrt {\\\\sum _{\\\\tau =1}^{t}g_{\\\\tau }^{2}}}} is the \\u21132 norm of previous derivatives, extreme parameter updates get dampened, while parameters that get few or small updates receive higher learning rates. While designed for convex problems, AdaGrad has been successfully applied to non-convex optimization. RMSProp RMSProp (for Root Mean Square Propagation) is also a method in which the learning rate is adapted for each of the parameters. The idea is to divide the learning rate for a weight by a running average of the magnitudes of recent gradients for that weight. So, first the running average is calculated in terms of means square, v ( w , t ) := \\u03b3 v ( w , t \\u2212 1 ) + ( 1 \\u2212 \\u03b3 ) ( \\u2207 Q i ( w ) ) 2 {\\\\displaystyle v(w,t):=\\\\gamma v(w,t-1)+(1-\\\\gamma )(\\\\nabla Q_{i}(w))^{2}} where, \\u03b3 {\\\\displaystyle \\\\gamma } is the forgetting factor. And the parameters are updated as, w := w \\u2212 \\u03b7 v ( w , t ) \\u2207 Q i ( w ) {\\\\displaystyle w:=w-{\\\\frac {\\\\eta }{\\\\sqrt {v(w,t)}}}\\\\nabla Q_{i}(w)} RMSProp has shown excellent adaptation of learning rate in different applications. RMSProp can be seen as a generalization of Rprop and is capable to work with mini-batches as well opposed to only full-batches. Adam Adam (for Adaptive Moment Estimation) is an update to RMSProp optimizer. In this running average of both the gradients and their magnitudes are used. The three equations that define this optimizer are as follows, m ( w , t ) = \\u03b3 1 m ( w , t \\u2212 1 ) + ( 1 \\u2212 \\u03b3 1 ) \\u2207 Q i ( w ) {\\\\displaystyle m(w,t)=\\\\gamma _{1}m(w,t-1)+(1-\\\\gamma _{1})\\\\nabla Q_{i}(w)} v ( w , t ) = \\u03b3 2 v ( w , t \\u2212 1 ) + ( 1 \\u2212 \\u03b3 2 ) ( \\u2207 Q i ( w ) ) 2 {\\\\displaystyle v(w,t)=\\\\gamma _{2}v(w,t-1)+(1-\\\\gamma _{2})(\\\\nabla Q_{i}(w))^{2}} m ^ ( w , t ) = 1 1 \\u2212 \\u03b3 1 t m ( w , t ) {\\\\displaystyle {\\\\hat {m}}(w,t)={\\\\frac {1}{1-\\\\gamma _{1}^{t}}}m(w,t)} v ^ ( w , t ) = 1 1 \\u2212 \\u03b3 2 t v ( w , t ) {\\\\displaystyle {\\\\hat {v}}(w,t)={\\\\frac {1}{1-\\\\gamma _{2}^{t}}}v(w,t)} w ( t + 1 ) = w ( t ) \\u2212 \\u03b7 v ^ ( w , t ) + \\u03f5 m ^ ( w , t ) {\\\\displaystyle w(t+1)=w(t)-{\\\\frac {\\\\eta }{{\\\\sqrt {{\\\\hat {v}}(w,t)}}+\\\\epsilon }}{\\\\hat {m}}(w,t)} where, \\u03b3 1 {\\\\displaystyle \\\\gamma _{1}} and \\u03b3 2 {\\\\displaystyle \\\\gamma _{2}} are two forgetting factors of the algorithm, respectively for gradients and magnitude of gradients. Notes See also Coordinate descent \\u2013 changes one coordinate at a time, rather than one example Linear classifier Online machine learning References Further reading Bertsekas, Dimitri P. (1999), Nonlinear Programming (2nd ed.), Cambridge, MA.: Athena Scientific, ISBN 1-886529-00-0 . Bertsekas, Dimitri (2003), Convex Analysis and Optimization, Athena Scientific . Bottou, L\\xe9on (2004), \"Stochastic Learning\", Advanced Lectures on Machine Learning, LNAI, 3176, Springer, pp. 146\\u2013168, ISBN 978-3-540-23122-6 . Davidon, W.C. (1976), \"New least-square algorithms\", Journal of Optimization Theory and Applications, 18 (2): 187\\u2013197, doi:10.1007 BF00935703, MR 418461 . Duda, Richard O.; Hart, Peter E.; Stork, David G. (2000), Pattern Classification (2nd ed.), Wiley, ISBN 978-0-471-05669-0 . Kiwiel, Krzysztof C. (2004), \"Convergence of approximate and incremental subgradient methods for convex optimization\", SIAM Journal of Optimization, 14 (3): 807\\u2013840, doi:10.1137 S1052623400376366, MR 2085944 . (Extensive list of references) Spall, James C. (2003), Introduction to Stochastic Search and Optimization, Wiley, ISBN 978-0-471-33052-3 . Software sgd: an LGPL C++ library which uses stochastic gradient descent to fit SVM and conditional random field models. CRF-ADF A C# toolkit of stochastic gradient descent and its feature-frequency-adaptive variation for training conditional random field models. Vowpal Wabbit: BSD licence, fast scalable learning by John Langford and others. Includes several stochastic gradient descent variants. Source repository on github External links Using stochastic gradient descent in C++, Boost, Ublas for linear regression'"
      ]
     },
     "execution_count": 5,
     "metadata": {},
     "output_type": "execute_result"
    }
   ],
   "source": [
    "page_response = wiki.query_page('1180641')\n",
    "ranpgid = page_response['text']\n",
    "ranpgid"
   ]
  },
  {
   "cell_type": "code",
   "execution_count": 6,
   "metadata": {
    "collapsed": false,
    "scrolled": false
   },
   "outputs": [
    {
     "data": {
      "text/plain": [
       "u'Stochastic gradient descent (often shortened in SGD), also known as incremental gradient descent, is a stochastic approximation of the gradient descent optimization method for minimizing an objective function that is written as a sum of differentiable functions. In other words, SGD tries to find minimums or maximums by iteration. Background Both statistical estimation and machine learning consider the problem of minimizing an objective function that has the form of a sum: Q ( w ) = 1 n \\u2211 i = 1 n Q i ( w ) , {\\\\displaystyle Q(w)={\\\\frac {1}{n}}\\\\sum _{i=1}^{n}Q_{i}(w),} where the parameter w {\\\\displaystyle w} which minimizes Q ( w ) {\\\\displaystyle Q(w)} is to be estimated. Each summand function Q i {\\\\displaystyle Q_{i}} is typically associated with the i {\\\\displaystyle i} -th observation in the data set (used for training). In classical statistics, sum-minimization problems arise in least squares and in maximum-likelihood estimation (for independent observations). The general class of estimators that arise as minimizers of sums are called M-estimators. However, in statistics, it has been long recognized that requiring even local minimization is too restrictive for some problems of maximum-likelihood estimation. Therefore, contemporary statistical theorists often consider stationary points of the likelihood function (or zeros of its derivative, the score function, and other estimating equations). The sum-minimization problem also arises for empirical risk minimization: In this case, Q i ( w ) {\\\\displaystyle Q_{i}(w)} is the value of the loss function at i {\\\\displaystyle i} -th example, and Q ( w ) {\\\\displaystyle Q(w)} is the empirical risk. When used to minimize the above function, a standard (or \"batch\") gradient descent method would perform the following iterations : w := w \\u2212 \\u03b7 \\u2207 Q ( w ) = w \\u2212 \\u03b7 \\u2211 i = 1 n \\u2207 Q i ( w ) , {\\\\displaystyle w:=w-\\\\eta \\\\nabla Q(w)=w-\\\\eta \\\\sum _{i=1}^{n}\\\\nabla Q_{i}(w),} where \\u03b7 {\\\\displaystyle \\\\eta } is a step size (sometimes called the learning rate in machine learning). In many cases, the summand functions have a simple form that enables inexpensive evaluations of the sum-function and the sum gradient. For example, in statistics, one-parameter exponential families allow economical function-evaluations and gradient-evaluations. However, in other cases, evaluating the sum-gradient may require expensive evaluations of the gradients from all summand functions. When the training set is enormous and no simple formulas exist, evaluating the sums of gradients becomes very expensive, because evaluating the gradient requires evaluating all the summand functions gradients. To economize on the computational cost at every iteration, stochastic gradient descent samples a subset of summand functions at every step. This is very effective in the case of large-scale machine learning problems. Iterative method In stochastic (or \"on-line\") gradient descent, the true gradient of Q ( w ) {\\\\displaystyle Q(w)} is approximated by a gradient at a single example: w := w \\u2212 \\u03b7 \\u2207 Q i ( w ) . {\\\\displaystyle w:=w-\\\\eta \\\\nabla Q_{i}(w).} As the algorithm sweeps through the training set, it performs the above update for each training example. Several passes can be made over the training set until the algorithm converges. If this is done, the data can be shuffled for each pass to prevent cycles. Typical implementations may use an adaptive learning rate so that the algorithm converges. In pseudocode, stochastic gradient descent can be presented as follows: A compromise between computing the true gradient and the gradient at a single example, is to compute the gradient against more than one training example (called a \"mini-batch\") at each step. This can perform significantly better than true stochastic gradient descent because the code can make use of vectorization libraries rather than computing each step separately. It may also result in smoother convergence, as the gradient computed at each step uses more training examples. The convergence of stochastic gradient descent has been analyzed using the theories of convex minimization and of stochastic approximation. Briefly, when the learning rates \\u03b7 {\\\\displaystyle \\\\eta } decrease with an appropriate rate, and subject to relatively mild assumptions, stochastic gradient descent converges almost surely to a global minimum when the objective function is convex or pseudoconvex, and otherwise converges almost surely to a local minimum. This is in fact a consequence of the Robbins-Siegmund theorem. Example Lets suppose we want to fit a straight line y = w 1 + w 2 x {\\\\displaystyle y=\\\\!w_{1}+w_{2}x} to a training set of two-dimensional points ( x 1 , y 1 ) , \\u2026 , ( x n , y n ) {\\\\displaystyle (x_{1},y_{1}),\\\\ldots ,(x_{n},y_{n})} using least squares. The objective function to be minimized is: Q ( w ) = \\u2211 i = 1 n Q i ( w ) = \\u2211 i = 1 n ( w 1 + w 2 x i \\u2212 y i ) 2 . {\\\\displaystyle Q(w)=\\\\sum _{i=1}^{n}Q_{i}(w)=\\\\sum _{i=1}^{n}\\\\left(w_{1}+w_{2}x_{i}-y_{i}\\\\right)^{2}.} The last line in the above pseudocode for this specific problem will become: [ w 1 w 2 ] := [ w 1 w 2 ] \\u2212 \\u03b7 [ 2 ( w 1 + w 2 x i \\u2212 y i ) 2 x i ( w 1 + w 2 x i \\u2212 y i ) ] . {\\\\displaystyle {\\\\begin{bmatrix}w_{1}\\\\\\\\w_{2}\\\\end{bmatrix}}:={\\\\begin{bmatrix}w_{1}\\\\\\\\w_{2}\\\\end{bmatrix}}-\\\\eta {\\\\begin{bmatrix}2(w_{1}+w_{2}x_{i}-y_{i})\\\\\\\\2x_{i}(w_{1}+w_{2}x_{i}-y_{i})\\\\end{bmatrix}}.} Applications Stochastic gradient descent is a popular algorithm for training a wide range of models in machine learning, including (linear) support vector machines, logistic regression (see, e.g., Vowpal Wabbit) and graphical models. When combined with the backpropagation algorithm, it is the de facto standard algorithm for training artificial neural networks. Stochastic gradient descent competes with the L-BFGS algorithm, which is also widely used. Stochastic gradient descent has been used since at least 1960 for training linear regression models, originally under the name ADALINE. Another popular stochastic gradient descent algorithm is the least mean squares (LMS) adaptive filter. Extensions and variants Many improvements on the basic stochastic gradient descent algorithm have been proposed and used. In particular, in machine learning, the need to set a learning rate (step size) has been recognized as problematic. Setting this parameter too high can cause the algorithm to diverge; setting it too low makes it slow to converge. A conceptually simple extension of stochastic gradient descent makes the learning rate a decreasing function \\u03b7t of the iteration number t, giving a learning rate schedule, so that the first iterations cause large changes in the parameters, while the later ones do only fine-tuning. Such schedules have been known since the work of MacQueen on k-means clustering. Momentum Further proposals include the momentum method, which appeared in Rumelhart, Hinton and Williams seminal paper on backpropagation learning. Stochastic gradient descent with momentum remembers the update \\u0394 w at each iteration, and determines the next update as a convex combination of the gradient and the previous update: \\u0394 w := \\u03b7 \\u2207 Q i ( w ) + \\u03b1 \\u0394 w {\\\\displaystyle \\\\Delta w:=\\\\eta \\\\nabla Q_{i}(w)+\\\\alpha \\\\Delta w} w := w \\u2212 \\u0394 w {\\\\displaystyle w:=w-\\\\Delta w} or as a mathematically equivalent formulation: \\u0394 w := \\u2212 \\u03b7 \\u2207 Q i ( w ) + \\u03b1 \\u0394 w {\\\\displaystyle \\\\Delta w:=-\\\\eta \\\\nabla Q_{i}(w)+\\\\alpha \\\\Delta w} w := w + \\u0394 w {\\\\displaystyle w:=w+\\\\Delta w} that leads to: w := w \\u2212 \\u03b7 \\u2207 Q i ( w ) + \\u03b1 \\u0394 w {\\\\displaystyle w:=w-\\\\eta \\\\nabla Q_{i}(w)+\\\\alpha \\\\Delta w} where the parameter w {\\\\displaystyle w} which minimizes Q ( w ) {\\\\displaystyle Q(w)} is to be estimated, and \\u03b7 {\\\\displaystyle \\\\eta } is a step size (sometimes called the learning rate in machine learning). The name momentum stems from an analogy to momentum in physics: the weight vector, thought of as a particle traveling through parameter space, incurs acceleration from the gradient of the loss (\"force\"). Unlike in classical stochastic gradient descent, it tends to keep traveling in the same direction, preventing oscillations. Momentum has been used successfully for several decades. Averaging Averaged stochastic gradient descent, invented independently by Ruppert and Polyak in the late 1980s, is ordinary stochastic gradient descent that records an average of its parameter vector over time. That is, the update is the same as for ordinary stochastic gradient descent, but the algorithm also keeps track of w \\xaf = 1 t \\u2211 i = 0 t \\u2212 1 w i {\\\\displaystyle {\\\\bar {w}}={\\\\frac {1}{t}}\\\\sum _{i=0}^{t-1}w_{i}} . When optimization is done, this averaged parameter vector takes the place of w. AdaGrad AdaGrad (for adaptive gradient algorithm) is a modified stochastic gradient descent with per-parameter learning rate, first published in 2011. Informally, this increases the learning rate for more sparse parameters and decreases the learning rate for less sparse ones. This strategy often improves convergence performance over standard stochastic gradient descent in settings where data is sparse and sparse parameters are more informative. Examples of such applications include natural language processing and image recognition. It still has a base learning rate \\u03b7, but this is multiplied with the elements of a vector {Gj,j} which is the diagonal of the outer product matrix. G = \\u2211 \\u03c4 = 1 t g \\u03c4 g \\u03c4 T {\\\\displaystyle G=\\\\sum _{\\\\tau =1}^{t}g_{\\\\tau }g_{\\\\tau }^{\\\\mathsf {T}}} where g \\u03c4 = \\u2207 Q i ( w ) {\\\\displaystyle g_{\\\\tau }=\\\\nabla Q_{i}(w)} , the gradient, at iteration \\u03c4. The diagonal is given by G j , j = \\u2211 \\u03c4 = 1 t g \\u03c4 , j 2 {\\\\displaystyle G_{j,j}=\\\\sum _{\\\\tau =1}^{t}g_{\\\\tau ,j}^{2}} . This vector is updated after every iteration. The formula for an update is now w := w \\u2212 \\u03b7 d i a g ( G ) \\u2212 1 2 \\u2218 g {\\\\displaystyle w:=w-\\\\eta \\\\,\\\\mathrm {diag} (G)^{-{\\\\frac {1}{2}}}\\\\circ g} or, written as per-parameter updates, w j := w j \\u2212 \\u03b7 G j , j g j . {\\\\displaystyle w_{j}:=w_{j}-{\\\\frac {\\\\eta }{\\\\sqrt {G_{j,j}}}}g_{j}.} Each {G(i,i)} gives rise to a scaling factor for the learning rate that applies to a single parameter wi. Since the denominator in this factor, G i = \\u2211 \\u03c4 = 1 t g \\u03c4 2 {\\\\displaystyle {\\\\sqrt {G_{i}}}={\\\\sqrt {\\\\sum _{\\\\tau =1}^{t}g_{\\\\tau }^{2}}}} is the \\u21132 norm of previous derivatives, extreme parameter updates get dampened, while parameters that get few or small updates receive higher learning rates. While designed for convex problems, AdaGrad has been successfully applied to non-convex optimization. RMSProp RMSProp (for Root Mean Square Propagation) is also a method in which the learning rate is adapted for each of the parameters. The idea is to divide the learning rate for a weight by a running average of the magnitudes of recent gradients for that weight. So, first the running average is calculated in terms of means square, v ( w , t ) := \\u03b3 v ( w , t \\u2212 1 ) + ( 1 \\u2212 \\u03b3 ) ( \\u2207 Q i ( w ) ) 2 {\\\\displaystyle v(w,t):=\\\\gamma v(w,t-1)+(1-\\\\gamma )(\\\\nabla Q_{i}(w))^{2}} where, \\u03b3 {\\\\displaystyle \\\\gamma } is the forgetting factor. And the parameters are updated as, w := w \\u2212 \\u03b7 v ( w , t ) \\u2207 Q i ( w ) {\\\\displaystyle w:=w-{\\\\frac {\\\\eta }{\\\\sqrt {v(w,t)}}}\\\\nabla Q_{i}(w)} RMSProp has shown excellent adaptation of learning rate in different applications. RMSProp can be seen as a generalization of Rprop and is capable to work with mini-batches as well opposed to only full-batches. Adam Adam (for Adaptive Moment Estimation) is an update to RMSProp optimizer. In this running average of both the gradients and their magnitudes are used. The three equations that define this optimizer are as follows, m ( w , t ) = \\u03b3 1 m ( w , t \\u2212 1 ) + ( 1 \\u2212 \\u03b3 1 ) \\u2207 Q i ( w ) {\\\\displaystyle m(w,t)=\\\\gamma _{1}m(w,t-1)+(1-\\\\gamma _{1})\\\\nabla Q_{i}(w)} v ( w , t ) = \\u03b3 2 v ( w , t \\u2212 1 ) + ( 1 \\u2212 \\u03b3 2 ) ( \\u2207 Q i ( w ) ) 2 {\\\\displaystyle v(w,t)=\\\\gamma _{2}v(w,t-1)+(1-\\\\gamma _{2})(\\\\nabla Q_{i}(w))^{2}} m ^ ( w , t ) = 1 1 \\u2212 \\u03b3 1 t m ( w , t ) {\\\\displaystyle {\\\\hat {m}}(w,t)={\\\\frac {1}{1-\\\\gamma _{1}^{t}}}m(w,t)} v ^ ( w , t ) = 1 1 \\u2212 \\u03b3 2 t v ( w , t ) {\\\\displaystyle {\\\\hat {v}}(w,t)={\\\\frac {1}{1-\\\\gamma _{2}^{t}}}v(w,t)} w ( t + 1 ) = w ( t ) \\u2212 \\u03b7 v ^ ( w , t ) + \\u03f5 m ^ ( w , t ) {\\\\displaystyle w(t+1)=w(t)-{\\\\frac {\\\\eta }{{\\\\sqrt {{\\\\hat {v}}(w,t)}}+\\\\epsilon }}{\\\\hat {m}}(w,t)} where, \\u03b3 1 {\\\\displaystyle \\\\gamma _{1}} and \\u03b3 2 {\\\\displaystyle \\\\gamma _{2}} are two forgetting factors of the algorithm, respectively for gradients and magnitude of gradients. Notes See also Coordinate descent \\u2013 changes one coordinate at a time, rather than one example Linear classifier Online machine learning References Further reading Bertsekas, Dimitri P. (1999), Nonlinear Programming (2nd ed.), Cambridge, MA.: Athena Scientific, ISBN 1-886529-00-0 . Bertsekas, Dimitri (2003), Convex Analysis and Optimization, Athena Scientific . Bottou, L\\xe9on (2004), \"Stochastic Learning\", Advanced Lectures on Machine Learning, LNAI, 3176, Springer, pp. 146\\u2013168, ISBN 978-3-540-23122-6 . Davidon, W.C. (1976), \"New least-square algorithms\", Journal of Optimization Theory and Applications, 18 (2): 187\\u2013197, doi:10.1007 BF00935703, MR 418461 . Duda, Richard O.; Hart, Peter E.; Stork, David G. (2000), Pattern Classification (2nd ed.), Wiley, ISBN 978-0-471-05669-0 . Kiwiel, Krzysztof C. (2004), \"Convergence of approximate and incremental subgradient methods for convex optimization\", SIAM Journal of Optimization, 14 (3): 807\\u2013840, doi:10.1137 S1052623400376366, MR 2085944 . (Extensive list of references) Spall, James C. (2003), Introduction to Stochastic Search and Optimization, Wiley, ISBN 978-0-471-33052-3 . Software sgd: an LGPL C++ library which uses stochastic gradient descent to fit SVM and conditional random field models. CRF-ADF A C# toolkit of stochastic gradient descent and its feature-frequency-adaptive variation for training conditional random field models. Vowpal Wabbit: BSD licence, fast scalable learning by John Langford and others. Includes several stochastic gradient descent variants. Source repository on github External links Using stochastic gradient descent in C++, Boost, Ublas for linear regression'"
      ]
     },
     "execution_count": 6,
     "metadata": {},
     "output_type": "execute_result"
    }
   ],
   "source": [
    "ranpgid = wiki.query_page('1180641')\n",
    "ranpgid['text']\n"
   ]
  },
  {
   "cell_type": "code",
   "execution_count": 7,
   "metadata": {
    "collapsed": true
   },
   "outputs": [],
   "source": [
    "from sklearn.externals import joblib\n",
    "transformer = joblib.load('/Users/ginodefalco/dsi/dsi-workspace/Projects/project_6/data/vectorizer(1).pkl')\n"
   ]
  },
  {
   "cell_type": "code",
   "execution_count": 8,
   "metadata": {
    "collapsed": false,
    "scrolled": false
   },
   "outputs": [
    {
     "data": {
      "text/plain": [
       "u'Stochastic gradient descent (often shortened in SGD), also known as incremental gradient descent, is a stochastic approximation of the gradient descent optimization method for minimizing an objective function that is written as a sum of differentiable functions. In other words, SGD tries to find minimums or maximums by iteration. Background Both statistical estimation and machine learning consider the problem of minimizing an objective function that has the form of a sum: Q ( w ) = 1 n \\u2211 i = 1 n Q i ( w ) , {\\\\displaystyle Q(w)={\\\\frac {1}{n}}\\\\sum _{i=1}^{n}Q_{i}(w),} where the parameter w {\\\\displaystyle w} which minimizes Q ( w ) {\\\\displaystyle Q(w)} is to be estimated. Each summand function Q i {\\\\displaystyle Q_{i}} is typically associated with the i {\\\\displaystyle i} -th observation in the data set (used for training). In classical statistics, sum-minimization problems arise in least squares and in maximum-likelihood estimation (for independent observations). The general class of estimators that arise as minimizers of sums are called M-estimators. However, in statistics, it has been long recognized that requiring even local minimization is too restrictive for some problems of maximum-likelihood estimation. Therefore, contemporary statistical theorists often consider stationary points of the likelihood function (or zeros of its derivative, the score function, and other estimating equations). The sum-minimization problem also arises for empirical risk minimization: In this case, Q i ( w ) {\\\\displaystyle Q_{i}(w)} is the value of the loss function at i {\\\\displaystyle i} -th example, and Q ( w ) {\\\\displaystyle Q(w)} is the empirical risk. When used to minimize the above function, a standard (or \"batch\") gradient descent method would perform the following iterations : w := w \\u2212 \\u03b7 \\u2207 Q ( w ) = w \\u2212 \\u03b7 \\u2211 i = 1 n \\u2207 Q i ( w ) , {\\\\displaystyle w:=w-\\\\eta \\\\nabla Q(w)=w-\\\\eta \\\\sum _{i=1}^{n}\\\\nabla Q_{i}(w),} where \\u03b7 {\\\\displaystyle \\\\eta } is a step size (sometimes called the learning rate in machine learning). In many cases, the summand functions have a simple form that enables inexpensive evaluations of the sum-function and the sum gradient. For example, in statistics, one-parameter exponential families allow economical function-evaluations and gradient-evaluations. However, in other cases, evaluating the sum-gradient may require expensive evaluations of the gradients from all summand functions. When the training set is enormous and no simple formulas exist, evaluating the sums of gradients becomes very expensive, because evaluating the gradient requires evaluating all the summand functions gradients. To economize on the computational cost at every iteration, stochastic gradient descent samples a subset of summand functions at every step. This is very effective in the case of large-scale machine learning problems. Iterative method In stochastic (or \"on-line\") gradient descent, the true gradient of Q ( w ) {\\\\displaystyle Q(w)} is approximated by a gradient at a single example: w := w \\u2212 \\u03b7 \\u2207 Q i ( w ) . {\\\\displaystyle w:=w-\\\\eta \\\\nabla Q_{i}(w).} As the algorithm sweeps through the training set, it performs the above update for each training example. Several passes can be made over the training set until the algorithm converges. If this is done, the data can be shuffled for each pass to prevent cycles. Typical implementations may use an adaptive learning rate so that the algorithm converges. In pseudocode, stochastic gradient descent can be presented as follows: A compromise between computing the true gradient and the gradient at a single example, is to compute the gradient against more than one training example (called a \"mini-batch\") at each step. This can perform significantly better than true stochastic gradient descent because the code can make use of vectorization libraries rather than computing each step separately. It may also result in smoother convergence, as the gradient computed at each step uses more training examples. The convergence of stochastic gradient descent has been analyzed using the theories of convex minimization and of stochastic approximation. Briefly, when the learning rates \\u03b7 {\\\\displaystyle \\\\eta } decrease with an appropriate rate, and subject to relatively mild assumptions, stochastic gradient descent converges almost surely to a global minimum when the objective function is convex or pseudoconvex, and otherwise converges almost surely to a local minimum. This is in fact a consequence of the Robbins-Siegmund theorem. Example Lets suppose we want to fit a straight line y = w 1 + w 2 x {\\\\displaystyle y=\\\\!w_{1}+w_{2}x} to a training set of two-dimensional points ( x 1 , y 1 ) , \\u2026 , ( x n , y n ) {\\\\displaystyle (x_{1},y_{1}),\\\\ldots ,(x_{n},y_{n})} using least squares. The objective function to be minimized is: Q ( w ) = \\u2211 i = 1 n Q i ( w ) = \\u2211 i = 1 n ( w 1 + w 2 x i \\u2212 y i ) 2 . {\\\\displaystyle Q(w)=\\\\sum _{i=1}^{n}Q_{i}(w)=\\\\sum _{i=1}^{n}\\\\left(w_{1}+w_{2}x_{i}-y_{i}\\\\right)^{2}.} The last line in the above pseudocode for this specific problem will become: [ w 1 w 2 ] := [ w 1 w 2 ] \\u2212 \\u03b7 [ 2 ( w 1 + w 2 x i \\u2212 y i ) 2 x i ( w 1 + w 2 x i \\u2212 y i ) ] . {\\\\displaystyle {\\\\begin{bmatrix}w_{1}\\\\\\\\w_{2}\\\\end{bmatrix}}:={\\\\begin{bmatrix}w_{1}\\\\\\\\w_{2}\\\\end{bmatrix}}-\\\\eta {\\\\begin{bmatrix}2(w_{1}+w_{2}x_{i}-y_{i})\\\\\\\\2x_{i}(w_{1}+w_{2}x_{i}-y_{i})\\\\end{bmatrix}}.} Applications Stochastic gradient descent is a popular algorithm for training a wide range of models in machine learning, including (linear) support vector machines, logistic regression (see, e.g., Vowpal Wabbit) and graphical models. When combined with the backpropagation algorithm, it is the de facto standard algorithm for training artificial neural networks. Stochastic gradient descent competes with the L-BFGS algorithm, which is also widely used. Stochastic gradient descent has been used since at least 1960 for training linear regression models, originally under the name ADALINE. Another popular stochastic gradient descent algorithm is the least mean squares (LMS) adaptive filter. Extensions and variants Many improvements on the basic stochastic gradient descent algorithm have been proposed and used. In particular, in machine learning, the need to set a learning rate (step size) has been recognized as problematic. Setting this parameter too high can cause the algorithm to diverge; setting it too low makes it slow to converge. A conceptually simple extension of stochastic gradient descent makes the learning rate a decreasing function \\u03b7t of the iteration number t, giving a learning rate schedule, so that the first iterations cause large changes in the parameters, while the later ones do only fine-tuning. Such schedules have been known since the work of MacQueen on k-means clustering. Momentum Further proposals include the momentum method, which appeared in Rumelhart, Hinton and Williams seminal paper on backpropagation learning. Stochastic gradient descent with momentum remembers the update \\u0394 w at each iteration, and determines the next update as a convex combination of the gradient and the previous update: \\u0394 w := \\u03b7 \\u2207 Q i ( w ) + \\u03b1 \\u0394 w {\\\\displaystyle \\\\Delta w:=\\\\eta \\\\nabla Q_{i}(w)+\\\\alpha \\\\Delta w} w := w \\u2212 \\u0394 w {\\\\displaystyle w:=w-\\\\Delta w} or as a mathematically equivalent formulation: \\u0394 w := \\u2212 \\u03b7 \\u2207 Q i ( w ) + \\u03b1 \\u0394 w {\\\\displaystyle \\\\Delta w:=-\\\\eta \\\\nabla Q_{i}(w)+\\\\alpha \\\\Delta w} w := w + \\u0394 w {\\\\displaystyle w:=w+\\\\Delta w} that leads to: w := w \\u2212 \\u03b7 \\u2207 Q i ( w ) + \\u03b1 \\u0394 w {\\\\displaystyle w:=w-\\\\eta \\\\nabla Q_{i}(w)+\\\\alpha \\\\Delta w} where the parameter w {\\\\displaystyle w} which minimizes Q ( w ) {\\\\displaystyle Q(w)} is to be estimated, and \\u03b7 {\\\\displaystyle \\\\eta } is a step size (sometimes called the learning rate in machine learning). The name momentum stems from an analogy to momentum in physics: the weight vector, thought of as a particle traveling through parameter space, incurs acceleration from the gradient of the loss (\"force\"). Unlike in classical stochastic gradient descent, it tends to keep traveling in the same direction, preventing oscillations. Momentum has been used successfully for several decades. Averaging Averaged stochastic gradient descent, invented independently by Ruppert and Polyak in the late 1980s, is ordinary stochastic gradient descent that records an average of its parameter vector over time. That is, the update is the same as for ordinary stochastic gradient descent, but the algorithm also keeps track of w \\xaf = 1 t \\u2211 i = 0 t \\u2212 1 w i {\\\\displaystyle {\\\\bar {w}}={\\\\frac {1}{t}}\\\\sum _{i=0}^{t-1}w_{i}} . When optimization is done, this averaged parameter vector takes the place of w. AdaGrad AdaGrad (for adaptive gradient algorithm) is a modified stochastic gradient descent with per-parameter learning rate, first published in 2011. Informally, this increases the learning rate for more sparse parameters and decreases the learning rate for less sparse ones. This strategy often improves convergence performance over standard stochastic gradient descent in settings where data is sparse and sparse parameters are more informative. Examples of such applications include natural language processing and image recognition. It still has a base learning rate \\u03b7, but this is multiplied with the elements of a vector {Gj,j} which is the diagonal of the outer product matrix. G = \\u2211 \\u03c4 = 1 t g \\u03c4 g \\u03c4 T {\\\\displaystyle G=\\\\sum _{\\\\tau =1}^{t}g_{\\\\tau }g_{\\\\tau }^{\\\\mathsf {T}}} where g \\u03c4 = \\u2207 Q i ( w ) {\\\\displaystyle g_{\\\\tau }=\\\\nabla Q_{i}(w)} , the gradient, at iteration \\u03c4. The diagonal is given by G j , j = \\u2211 \\u03c4 = 1 t g \\u03c4 , j 2 {\\\\displaystyle G_{j,j}=\\\\sum _{\\\\tau =1}^{t}g_{\\\\tau ,j}^{2}} . This vector is updated after every iteration. The formula for an update is now w := w \\u2212 \\u03b7 d i a g ( G ) \\u2212 1 2 \\u2218 g {\\\\displaystyle w:=w-\\\\eta \\\\,\\\\mathrm {diag} (G)^{-{\\\\frac {1}{2}}}\\\\circ g} or, written as per-parameter updates, w j := w j \\u2212 \\u03b7 G j , j g j . {\\\\displaystyle w_{j}:=w_{j}-{\\\\frac {\\\\eta }{\\\\sqrt {G_{j,j}}}}g_{j}.} Each {G(i,i)} gives rise to a scaling factor for the learning rate that applies to a single parameter wi. Since the denominator in this factor, G i = \\u2211 \\u03c4 = 1 t g \\u03c4 2 {\\\\displaystyle {\\\\sqrt {G_{i}}}={\\\\sqrt {\\\\sum _{\\\\tau =1}^{t}g_{\\\\tau }^{2}}}} is the \\u21132 norm of previous derivatives, extreme parameter updates get dampened, while parameters that get few or small updates receive higher learning rates. While designed for convex problems, AdaGrad has been successfully applied to non-convex optimization. RMSProp RMSProp (for Root Mean Square Propagation) is also a method in which the learning rate is adapted for each of the parameters. The idea is to divide the learning rate for a weight by a running average of the magnitudes of recent gradients for that weight. So, first the running average is calculated in terms of means square, v ( w , t ) := \\u03b3 v ( w , t \\u2212 1 ) + ( 1 \\u2212 \\u03b3 ) ( \\u2207 Q i ( w ) ) 2 {\\\\displaystyle v(w,t):=\\\\gamma v(w,t-1)+(1-\\\\gamma )(\\\\nabla Q_{i}(w))^{2}} where, \\u03b3 {\\\\displaystyle \\\\gamma } is the forgetting factor. And the parameters are updated as, w := w \\u2212 \\u03b7 v ( w , t ) \\u2207 Q i ( w ) {\\\\displaystyle w:=w-{\\\\frac {\\\\eta }{\\\\sqrt {v(w,t)}}}\\\\nabla Q_{i}(w)} RMSProp has shown excellent adaptation of learning rate in different applications. RMSProp can be seen as a generalization of Rprop and is capable to work with mini-batches as well opposed to only full-batches. Adam Adam (for Adaptive Moment Estimation) is an update to RMSProp optimizer. In this running average of both the gradients and their magnitudes are used. The three equations that define this optimizer are as follows, m ( w , t ) = \\u03b3 1 m ( w , t \\u2212 1 ) + ( 1 \\u2212 \\u03b3 1 ) \\u2207 Q i ( w ) {\\\\displaystyle m(w,t)=\\\\gamma _{1}m(w,t-1)+(1-\\\\gamma _{1})\\\\nabla Q_{i}(w)} v ( w , t ) = \\u03b3 2 v ( w , t \\u2212 1 ) + ( 1 \\u2212 \\u03b3 2 ) ( \\u2207 Q i ( w ) ) 2 {\\\\displaystyle v(w,t)=\\\\gamma _{2}v(w,t-1)+(1-\\\\gamma _{2})(\\\\nabla Q_{i}(w))^{2}} m ^ ( w , t ) = 1 1 \\u2212 \\u03b3 1 t m ( w , t ) {\\\\displaystyle {\\\\hat {m}}(w,t)={\\\\frac {1}{1-\\\\gamma _{1}^{t}}}m(w,t)} v ^ ( w , t ) = 1 1 \\u2212 \\u03b3 2 t v ( w , t ) {\\\\displaystyle {\\\\hat {v}}(w,t)={\\\\frac {1}{1-\\\\gamma _{2}^{t}}}v(w,t)} w ( t + 1 ) = w ( t ) \\u2212 \\u03b7 v ^ ( w , t ) + \\u03f5 m ^ ( w , t ) {\\\\displaystyle w(t+1)=w(t)-{\\\\frac {\\\\eta }{{\\\\sqrt {{\\\\hat {v}}(w,t)}}+\\\\epsilon }}{\\\\hat {m}}(w,t)} where, \\u03b3 1 {\\\\displaystyle \\\\gamma _{1}} and \\u03b3 2 {\\\\displaystyle \\\\gamma _{2}} are two forgetting factors of the algorithm, respectively for gradients and magnitude of gradients. Notes See also Coordinate descent \\u2013 changes one coordinate at a time, rather than one example Linear classifier Online machine learning References Further reading Bertsekas, Dimitri P. (1999), Nonlinear Programming (2nd ed.), Cambridge, MA.: Athena Scientific, ISBN 1-886529-00-0 . Bertsekas, Dimitri (2003), Convex Analysis and Optimization, Athena Scientific . Bottou, L\\xe9on (2004), \"Stochastic Learning\", Advanced Lectures on Machine Learning, LNAI, 3176, Springer, pp. 146\\u2013168, ISBN 978-3-540-23122-6 . Davidon, W.C. (1976), \"New least-square algorithms\", Journal of Optimization Theory and Applications, 18 (2): 187\\u2013197, doi:10.1007 BF00935703, MR 418461 . Duda, Richard O.; Hart, Peter E.; Stork, David G. (2000), Pattern Classification (2nd ed.), Wiley, ISBN 978-0-471-05669-0 . Kiwiel, Krzysztof C. (2004), \"Convergence of approximate and incremental subgradient methods for convex optimization\", SIAM Journal of Optimization, 14 (3): 807\\u2013840, doi:10.1137 S1052623400376366, MR 2085944 . (Extensive list of references) Spall, James C. (2003), Introduction to Stochastic Search and Optimization, Wiley, ISBN 978-0-471-33052-3 . Software sgd: an LGPL C++ library which uses stochastic gradient descent to fit SVM and conditional random field models. CRF-ADF A C# toolkit of stochastic gradient descent and its feature-frequency-adaptive variation for training conditional random field models. Vowpal Wabbit: BSD licence, fast scalable learning by John Langford and others. Includes several stochastic gradient descent variants. Source repository on github External links Using stochastic gradient descent in C++, Boost, Ublas for linear regression'"
      ]
     },
     "execution_count": 8,
     "metadata": {},
     "output_type": "execute_result"
    }
   ],
   "source": [
    "ranpgid['text']"
   ]
  },
  {
   "cell_type": "markdown",
   "metadata": {},
   "source": [
    "# Parse: Encode page as document vector"
   ]
  },
  {
   "cell_type": "code",
   "execution_count": 9,
   "metadata": {
    "collapsed": false,
    "scrolled": false
   },
   "outputs": [
    {
     "data": {
      "text/plain": [
       "{u'Stochastic gradient descent (often shortened in SGD), also known as incremental gradient descent, is a stochastic approximation of the gradient descent optimization method for minimizing an objective function that is written as a sum of differentiable functions. In other words, SGD tries to find minimums or maximums by iteration. Background Both statistical estimation and machine learning consider the problem of minimizing an objective function that has the form of a sum: Q ( w ) = 1 n \\u2211 i = 1 n Q i ( w ) , {\\\\displaystyle Q(w)={\\\\frac {1}{n}}\\\\sum _{i=1}^{n}Q_{i}(w),} where the parameter w {\\\\displaystyle w} which minimizes Q ( w ) {\\\\displaystyle Q(w)} is to be estimated. Each summand function Q i {\\\\displaystyle Q_{i}} is typically associated with the i {\\\\displaystyle i} -th observation in the data set (used for training). In classical statistics, sum-minimization problems arise in least squares and in maximum-likelihood estimation (for independent observations). The general class of estimators that arise as minimizers of sums are called M-estimators. However, in statistics, it has been long recognized that requiring even local minimization is too restrictive for some problems of maximum-likelihood estimation. Therefore, contemporary statistical theorists often consider stationary points of the likelihood function (or zeros of its derivative, the score function, and other estimating equations). The sum-minimization problem also arises for empirical risk minimization: In this case, Q i ( w ) {\\\\displaystyle Q_{i}(w)} is the value of the loss function at i {\\\\displaystyle i} -th example, and Q ( w ) {\\\\displaystyle Q(w)} is the empirical risk. When used to minimize the above function, a standard (or \"batch\") gradient descent method would perform the following iterations : w := w \\u2212 \\u03b7 \\u2207 Q ( w ) = w \\u2212 \\u03b7 \\u2211 i = 1 n \\u2207 Q i ( w ) , {\\\\displaystyle w:=w-\\\\eta \\\\nabla Q(w)=w-\\\\eta \\\\sum _{i=1}^{n}\\\\nabla Q_{i}(w),} where \\u03b7 {\\\\displaystyle \\\\eta } is a step size (sometimes called the learning rate in machine learning). In many cases, the summand functions have a simple form that enables inexpensive evaluations of the sum-function and the sum gradient. For example, in statistics, one-parameter exponential families allow economical function-evaluations and gradient-evaluations. However, in other cases, evaluating the sum-gradient may require expensive evaluations of the gradients from all summand functions. When the training set is enormous and no simple formulas exist, evaluating the sums of gradients becomes very expensive, because evaluating the gradient requires evaluating all the summand functions gradients. To economize on the computational cost at every iteration, stochastic gradient descent samples a subset of summand functions at every step. This is very effective in the case of large-scale machine learning problems. Iterative method In stochastic (or \"on-line\") gradient descent, the true gradient of Q ( w ) {\\\\displaystyle Q(w)} is approximated by a gradient at a single example: w := w \\u2212 \\u03b7 \\u2207 Q i ( w ) . {\\\\displaystyle w:=w-\\\\eta \\\\nabla Q_{i}(w).} As the algorithm sweeps through the training set, it performs the above update for each training example. Several passes can be made over the training set until the algorithm converges. If this is done, the data can be shuffled for each pass to prevent cycles. Typical implementations may use an adaptive learning rate so that the algorithm converges. In pseudocode, stochastic gradient descent can be presented as follows: A compromise between computing the true gradient and the gradient at a single example, is to compute the gradient against more than one training example (called a \"mini-batch\") at each step. This can perform significantly better than true stochastic gradient descent because the code can make use of vectorization libraries rather than computing each step separately. It may also result in smoother convergence, as the gradient computed at each step uses more training examples. The convergence of stochastic gradient descent has been analyzed using the theories of convex minimization and of stochastic approximation. Briefly, when the learning rates \\u03b7 {\\\\displaystyle \\\\eta } decrease with an appropriate rate, and subject to relatively mild assumptions, stochastic gradient descent converges almost surely to a global minimum when the objective function is convex or pseudoconvex, and otherwise converges almost surely to a local minimum. This is in fact a consequence of the Robbins-Siegmund theorem. Example Lets suppose we want to fit a straight line y = w 1 + w 2 x {\\\\displaystyle y=\\\\!w_{1}+w_{2}x} to a training set of two-dimensional points ( x 1 , y 1 ) , \\u2026 , ( x n , y n ) {\\\\displaystyle (x_{1},y_{1}),\\\\ldots ,(x_{n},y_{n})} using least squares. The objective function to be minimized is: Q ( w ) = \\u2211 i = 1 n Q i ( w ) = \\u2211 i = 1 n ( w 1 + w 2 x i \\u2212 y i ) 2 . {\\\\displaystyle Q(w)=\\\\sum _{i=1}^{n}Q_{i}(w)=\\\\sum _{i=1}^{n}\\\\left(w_{1}+w_{2}x_{i}-y_{i}\\\\right)^{2}.} The last line in the above pseudocode for this specific problem will become: [ w 1 w 2 ] := [ w 1 w 2 ] \\u2212 \\u03b7 [ 2 ( w 1 + w 2 x i \\u2212 y i ) 2 x i ( w 1 + w 2 x i \\u2212 y i ) ] . {\\\\displaystyle {\\\\begin{bmatrix}w_{1}\\\\\\\\w_{2}\\\\end{bmatrix}}:={\\\\begin{bmatrix}w_{1}\\\\\\\\w_{2}\\\\end{bmatrix}}-\\\\eta {\\\\begin{bmatrix}2(w_{1}+w_{2}x_{i}-y_{i})\\\\\\\\2x_{i}(w_{1}+w_{2}x_{i}-y_{i})\\\\end{bmatrix}}.} Applications Stochastic gradient descent is a popular algorithm for training a wide range of models in machine learning, including (linear) support vector machines, logistic regression (see, e.g., Vowpal Wabbit) and graphical models. When combined with the backpropagation algorithm, it is the de facto standard algorithm for training artificial neural networks. Stochastic gradient descent competes with the L-BFGS algorithm, which is also widely used. Stochastic gradient descent has been used since at least 1960 for training linear regression models, originally under the name ADALINE. Another popular stochastic gradient descent algorithm is the least mean squares (LMS) adaptive filter. Extensions and variants Many improvements on the basic stochastic gradient descent algorithm have been proposed and used. In particular, in machine learning, the need to set a learning rate (step size) has been recognized as problematic. Setting this parameter too high can cause the algorithm to diverge; setting it too low makes it slow to converge. A conceptually simple extension of stochastic gradient descent makes the learning rate a decreasing function \\u03b7t of the iteration number t, giving a learning rate schedule, so that the first iterations cause large changes in the parameters, while the later ones do only fine-tuning. Such schedules have been known since the work of MacQueen on k-means clustering. Momentum Further proposals include the momentum method, which appeared in Rumelhart, Hinton and Williams seminal paper on backpropagation learning. Stochastic gradient descent with momentum remembers the update \\u0394 w at each iteration, and determines the next update as a convex combination of the gradient and the previous update: \\u0394 w := \\u03b7 \\u2207 Q i ( w ) + \\u03b1 \\u0394 w {\\\\displaystyle \\\\Delta w:=\\\\eta \\\\nabla Q_{i}(w)+\\\\alpha \\\\Delta w} w := w \\u2212 \\u0394 w {\\\\displaystyle w:=w-\\\\Delta w} or as a mathematically equivalent formulation: \\u0394 w := \\u2212 \\u03b7 \\u2207 Q i ( w ) + \\u03b1 \\u0394 w {\\\\displaystyle \\\\Delta w:=-\\\\eta \\\\nabla Q_{i}(w)+\\\\alpha \\\\Delta w} w := w + \\u0394 w {\\\\displaystyle w:=w+\\\\Delta w} that leads to: w := w \\u2212 \\u03b7 \\u2207 Q i ( w ) + \\u03b1 \\u0394 w {\\\\displaystyle w:=w-\\\\eta \\\\nabla Q_{i}(w)+\\\\alpha \\\\Delta w} where the parameter w {\\\\displaystyle w} which minimizes Q ( w ) {\\\\displaystyle Q(w)} is to be estimated, and \\u03b7 {\\\\displaystyle \\\\eta } is a step size (sometimes called the learning rate in machine learning). The name momentum stems from an analogy to momentum in physics: the weight vector, thought of as a particle traveling through parameter space, incurs acceleration from the gradient of the loss (\"force\"). Unlike in classical stochastic gradient descent, it tends to keep traveling in the same direction, preventing oscillations. Momentum has been used successfully for several decades. Averaging Averaged stochastic gradient descent, invented independently by Ruppert and Polyak in the late 1980s, is ordinary stochastic gradient descent that records an average of its parameter vector over time. That is, the update is the same as for ordinary stochastic gradient descent, but the algorithm also keeps track of w \\xaf = 1 t \\u2211 i = 0 t \\u2212 1 w i {\\\\displaystyle {\\\\bar {w}}={\\\\frac {1}{t}}\\\\sum _{i=0}^{t-1}w_{i}} . When optimization is done, this averaged parameter vector takes the place of w. AdaGrad AdaGrad (for adaptive gradient algorithm) is a modified stochastic gradient descent with per-parameter learning rate, first published in 2011. Informally, this increases the learning rate for more sparse parameters and decreases the learning rate for less sparse ones. This strategy often improves convergence performance over standard stochastic gradient descent in settings where data is sparse and sparse parameters are more informative. Examples of such applications include natural language processing and image recognition. It still has a base learning rate \\u03b7, but this is multiplied with the elements of a vector {Gj,j} which is the diagonal of the outer product matrix. G = \\u2211 \\u03c4 = 1 t g \\u03c4 g \\u03c4 T {\\\\displaystyle G=\\\\sum _{\\\\tau =1}^{t}g_{\\\\tau }g_{\\\\tau }^{\\\\mathsf {T}}} where g \\u03c4 = \\u2207 Q i ( w ) {\\\\displaystyle g_{\\\\tau }=\\\\nabla Q_{i}(w)} , the gradient, at iteration \\u03c4. The diagonal is given by G j , j = \\u2211 \\u03c4 = 1 t g \\u03c4 , j 2 {\\\\displaystyle G_{j,j}=\\\\sum _{\\\\tau =1}^{t}g_{\\\\tau ,j}^{2}} . This vector is updated after every iteration. The formula for an update is now w := w \\u2212 \\u03b7 d i a g ( G ) \\u2212 1 2 \\u2218 g {\\\\displaystyle w:=w-\\\\eta \\\\,\\\\mathrm {diag} (G)^{-{\\\\frac {1}{2}}}\\\\circ g} or, written as per-parameter updates, w j := w j \\u2212 \\u03b7 G j , j g j . {\\\\displaystyle w_{j}:=w_{j}-{\\\\frac {\\\\eta }{\\\\sqrt {G_{j,j}}}}g_{j}.} Each {G(i,i)} gives rise to a scaling factor for the learning rate that applies to a single parameter wi. Since the denominator in this factor, G i = \\u2211 \\u03c4 = 1 t g \\u03c4 2 {\\\\displaystyle {\\\\sqrt {G_{i}}}={\\\\sqrt {\\\\sum _{\\\\tau =1}^{t}g_{\\\\tau }^{2}}}} is the \\u21132 norm of previous derivatives, extreme parameter updates get dampened, while parameters that get few or small updates receive higher learning rates. While designed for convex problems, AdaGrad has been successfully applied to non-convex optimization. RMSProp RMSProp (for Root Mean Square Propagation) is also a method in which the learning rate is adapted for each of the parameters. The idea is to divide the learning rate for a weight by a running average of the magnitudes of recent gradients for that weight. So, first the running average is calculated in terms of means square, v ( w , t ) := \\u03b3 v ( w , t \\u2212 1 ) + ( 1 \\u2212 \\u03b3 ) ( \\u2207 Q i ( w ) ) 2 {\\\\displaystyle v(w,t):=\\\\gamma v(w,t-1)+(1-\\\\gamma )(\\\\nabla Q_{i}(w))^{2}} where, \\u03b3 {\\\\displaystyle \\\\gamma } is the forgetting factor. And the parameters are updated as, w := w \\u2212 \\u03b7 v ( w , t ) \\u2207 Q i ( w ) {\\\\displaystyle w:=w-{\\\\frac {\\\\eta }{\\\\sqrt {v(w,t)}}}\\\\nabla Q_{i}(w)} RMSProp has shown excellent adaptation of learning rate in different applications. RMSProp can be seen as a generalization of Rprop and is capable to work with mini-batches as well opposed to only full-batches. Adam Adam (for Adaptive Moment Estimation) is an update to RMSProp optimizer. In this running average of both the gradients and their magnitudes are used. The three equations that define this optimizer are as follows, m ( w , t ) = \\u03b3 1 m ( w , t \\u2212 1 ) + ( 1 \\u2212 \\u03b3 1 ) \\u2207 Q i ( w ) {\\\\displaystyle m(w,t)=\\\\gamma _{1}m(w,t-1)+(1-\\\\gamma _{1})\\\\nabla Q_{i}(w)} v ( w , t ) = \\u03b3 2 v ( w , t \\u2212 1 ) + ( 1 \\u2212 \\u03b3 2 ) ( \\u2207 Q i ( w ) ) 2 {\\\\displaystyle v(w,t)=\\\\gamma _{2}v(w,t-1)+(1-\\\\gamma _{2})(\\\\nabla Q_{i}(w))^{2}} m ^ ( w , t ) = 1 1 \\u2212 \\u03b3 1 t m ( w , t ) {\\\\displaystyle {\\\\hat {m}}(w,t)={\\\\frac {1}{1-\\\\gamma _{1}^{t}}}m(w,t)} v ^ ( w , t ) = 1 1 \\u2212 \\u03b3 2 t v ( w , t ) {\\\\displaystyle {\\\\hat {v}}(w,t)={\\\\frac {1}{1-\\\\gamma _{2}^{t}}}v(w,t)} w ( t + 1 ) = w ( t ) \\u2212 \\u03b7 v ^ ( w , t ) + \\u03f5 m ^ ( w , t ) {\\\\displaystyle w(t+1)=w(t)-{\\\\frac {\\\\eta }{{\\\\sqrt {{\\\\hat {v}}(w,t)}}+\\\\epsilon }}{\\\\hat {m}}(w,t)} where, \\u03b3 1 {\\\\displaystyle \\\\gamma _{1}} and \\u03b3 2 {\\\\displaystyle \\\\gamma _{2}} are two forgetting factors of the algorithm, respectively for gradients and magnitude of gradients. Notes See also Coordinate descent \\u2013 changes one coordinate at a time, rather than one example Linear classifier Online machine learning References Further reading Bertsekas, Dimitri P. (1999), Nonlinear Programming (2nd ed.), Cambridge, MA.: Athena Scientific, ISBN 1-886529-00-0 . Bertsekas, Dimitri (2003), Convex Analysis and Optimization, Athena Scientific . Bottou, L\\xe9on (2004), \"Stochastic Learning\", Advanced Lectures on Machine Learning, LNAI, 3176, Springer, pp. 146\\u2013168, ISBN 978-3-540-23122-6 . Davidon, W.C. (1976), \"New least-square algorithms\", Journal of Optimization Theory and Applications, 18 (2): 187\\u2013197, doi:10.1007 BF00935703, MR 418461 . Duda, Richard O.; Hart, Peter E.; Stork, David G. (2000), Pattern Classification (2nd ed.), Wiley, ISBN 978-0-471-05669-0 . Kiwiel, Krzysztof C. (2004), \"Convergence of approximate and incremental subgradient methods for convex optimization\", SIAM Journal of Optimization, 14 (3): 807\\u2013840, doi:10.1137 S1052623400376366, MR 2085944 . (Extensive list of references) Spall, James C. (2003), Introduction to Stochastic Search and Optimization, Wiley, ISBN 978-0-471-33052-3 . Software sgd: an LGPL C++ library which uses stochastic gradient descent to fit SVM and conditional random field models. CRF-ADF A C# toolkit of stochastic gradient descent and its feature-frequency-adaptive variation for training conditional random field models. Vowpal Wabbit: BSD licence, fast scalable learning by John Langford and others. Includes several stochastic gradient descent variants. Source repository on github External links Using stochastic gradient descent in C++, Boost, Ublas for linear regression': array([[  7.13314987e-02,   1.62071512e-01,   1.66018390e-01,\n",
       "          -4.52461037e-02,   2.17560097e-02,  -3.97866967e-03,\n",
       "          -8.87611462e-03,  -6.90112639e-03,   5.44375425e-03,\n",
       "          -2.36941120e-02,   1.10192500e-02,  -4.57661677e-02,\n",
       "          -6.38860846e-03,  -1.00883449e-03,  -4.52887174e-03,\n",
       "           2.13589898e-02,  -6.47490549e-02,  -1.42060867e-02,\n",
       "          -3.00094793e-02,   5.23158082e-02,  -2.07547407e-02,\n",
       "           4.82709496e-02,   2.47150499e-02,   1.68943669e-02,\n",
       "          -1.33797245e-03,  -1.04056332e-02,  -2.51900495e-02,\n",
       "           4.79204976e-02,  -3.94276612e-02,  -3.30924386e-02,\n",
       "          -2.10572272e-02,   4.93157769e-03,  -8.34914947e-03,\n",
       "           4.95720588e-03,  -2.72668584e-03,  -1.98135954e-02,\n",
       "          -6.38152342e-03,   8.79331787e-03,   5.21132323e-03,\n",
       "           1.74908582e-02,   1.03052597e-02,  -1.20918963e-03,\n",
       "          -8.79509175e-03,   1.42337757e-03,  -2.60989387e-02,\n",
       "          -3.25473270e-02,   4.33797813e-03,   9.64498715e-04,\n",
       "          -5.91051108e-03,   7.98667344e-03,  -1.86824399e-02,\n",
       "           1.29267078e-02,   3.99549245e-04,   3.78273500e-03,\n",
       "           1.37945348e-02,  -1.52592040e-02,   5.70028299e-03,\n",
       "           1.01295398e-02,   2.69772083e-02,   1.42471188e-02,\n",
       "           1.57818648e-03,   1.88687773e-03,   2.01829450e-02,\n",
       "           8.97330901e-03,   4.93964637e-03,   1.08888542e-02,\n",
       "           1.44202447e-02,   1.80035614e-02,   2.43824657e-03,\n",
       "           1.46048644e-02,  -1.97010050e-02,  -1.41235924e-03,\n",
       "          -2.83316180e-03,  -1.98786951e-02,   2.12133106e-02,\n",
       "           9.29754363e-03,   1.56723550e-02,   3.02258798e-02,\n",
       "           3.35320797e-02,  -2.61331006e-02,   9.69491574e-03,\n",
       "          -5.42621031e-03,  -1.00229269e-02,  -4.39159673e-03,\n",
       "          -8.40479712e-03,   2.13685966e-02,   5.82767640e-03,\n",
       "           4.32667073e-03,  -2.10629226e-02,  -6.92075806e-03,\n",
       "           1.43324952e-02,  -2.05100162e-03,  -2.49519265e-03,\n",
       "          -2.11708416e-03,   3.97524967e-03,  -1.97213066e-02,\n",
       "           7.04830732e-04,  -9.21498520e-03,  -7.21577664e-03,\n",
       "           2.40069665e-02,   1.08220416e-03,   1.38147743e-02,\n",
       "          -1.32078113e-02,   1.31665095e-03,  -1.49994516e-02,\n",
       "          -2.52689014e-03,   6.33704001e-03,   5.70858903e-03,\n",
       "           1.94458825e-02,  -1.03727916e-02,   8.87266422e-03,\n",
       "          -3.48158487e-03,   1.31681826e-02,  -5.22541519e-03,\n",
       "           1.56641244e-03,  -2.55524578e-02,  -1.41816294e-02,\n",
       "           6.58298272e-03,  -6.41220438e-04,  -4.25128751e-04,\n",
       "          -1.11834516e-02,   3.22503973e-03,   1.36510669e-02,\n",
       "           2.19573739e-03,  -1.83157197e-02,  -1.49874316e-02,\n",
       "           1.25659820e-02,  -1.13353276e-02,   5.77345677e-03,\n",
       "           1.87174396e-02,   1.75977863e-02,  -2.63163651e-02,\n",
       "          -1.17836141e-02,   1.29112053e-02,  -1.44500802e-03,\n",
       "          -6.14460321e-03,  -1.25039208e-02,  -1.27520270e-02,\n",
       "          -2.56979065e-03,   1.67703807e-02,  -1.77049072e-02,\n",
       "          -7.67971297e-03,  -4.80963203e-03,   3.76777516e-03,\n",
       "           2.84504107e-03,  -2.52611862e-02,  -1.76087755e-02,\n",
       "           2.79507348e-03,  -1.72404683e-02,  -2.17788320e-03,\n",
       "           2.95610387e-03,   4.50875999e-03,  -1.06183212e-02,\n",
       "           1.52896583e-02,   7.42311389e-03,  -1.70912769e-03,\n",
       "          -3.77679854e-03,   8.53320903e-05,   1.43854331e-02,\n",
       "           8.28113038e-03,   3.25188826e-03,  -4.20660709e-03,\n",
       "          -2.54707903e-03,   8.28817064e-03,   9.52050810e-03,\n",
       "          -7.70912754e-03,  -6.54027160e-03,   1.08994930e-02,\n",
       "          -6.26763546e-04,  -4.14467352e-03,  -1.88442004e-03,\n",
       "           5.15024380e-03,  -1.95842519e-02,   5.06849649e-03,\n",
       "           4.54078188e-03,  -5.02611228e-04,   7.82877377e-03,\n",
       "          -7.87142026e-03,   4.32550531e-03,  -3.20206747e-03,\n",
       "           1.62991501e-03,   1.77950217e-03,   6.33229976e-03,\n",
       "          -2.11813293e-03,   2.12323861e-03,   6.12409298e-03,\n",
       "          -5.76359906e-03,   5.37851637e-04,  -1.72131828e-04,\n",
       "          -1.43994874e-03,  -5.67653825e-03,   1.77305555e-02,\n",
       "           9.16668098e-03,   3.15439271e-03,  -9.01726854e-03,\n",
       "          -6.17165622e-03,   7.47040033e-03,   6.85859896e-03,\n",
       "          -5.15011457e-03,  -8.26660192e-03,   5.73079353e-03,\n",
       "           8.99071316e-04,  -6.35651478e-04,   2.06813952e-03,\n",
       "           1.28978681e-03,   4.05571614e-03,   1.56615301e-03,\n",
       "           1.00297606e-02,   1.06511631e-02,  -1.48850880e-02,\n",
       "           3.47515235e-03,   2.52166513e-04,  -7.89670345e-03,\n",
       "          -7.84863354e-03,   6.87987715e-03,  -4.21594359e-03,\n",
       "           1.31567788e-02,  -1.21449428e-03,   8.12661821e-04,\n",
       "          -2.23125708e-02,   6.17544665e-03,   4.83740312e-03,\n",
       "          -2.36070571e-05,   1.51921161e-02,  -1.38353183e-03,\n",
       "          -9.30953762e-03,  -1.65699182e-02,   2.19231986e-03,\n",
       "           4.32802541e-03,  -1.20645952e-02,   1.11248053e-02,\n",
       "           2.97078131e-03,   1.82646061e-03,  -8.58907343e-03,\n",
       "          -3.33825966e-03,   2.17507769e-03,  -8.65688142e-03,\n",
       "          -1.31721028e-02,   2.30079471e-03,  -1.29934508e-02,\n",
       "          -2.72827892e-03,   9.07643836e-03,   1.93186326e-02,\n",
       "           7.76219396e-06,   6.21871986e-03,   3.74810875e-03,\n",
       "           8.27960597e-03,   8.93663262e-03,   2.08260244e-04,\n",
       "           5.61585686e-03,  -6.11533637e-03,   4.22597431e-03,\n",
       "          -1.13437247e-02,   3.01756099e-03,   4.93190878e-03,\n",
       "          -3.71420020e-03,  -2.86744663e-04,  -2.05610019e-02,\n",
       "           1.06058726e-02,  -7.18938192e-03,   4.30770803e-03,\n",
       "          -1.25477660e-03,   1.16063038e-03,   7.03445112e-03,\n",
       "           3.80333739e-03,   9.04694789e-03,   6.64702766e-03,\n",
       "           2.71877988e-03,  -1.00565110e-03,  -1.17068937e-02,\n",
       "           1.83333755e-03,   1.13503051e-02,  -1.20208673e-02,\n",
       "          -1.00038286e-02,  -9.47339653e-03,  -1.67490840e-03,\n",
       "          -2.09792346e-03,  -3.24057203e-03,   2.71247278e-03,\n",
       "          -4.55171602e-03,  -1.24883996e-02,  -9.72055845e-05,\n",
       "           6.06909658e-03,  -5.06801061e-04,  -1.97440693e-03,\n",
       "          -2.62157938e-03,   3.82911478e-03,  -1.76386021e-03,\n",
       "          -8.16014521e-03,  -7.69190500e-03,   6.26166047e-03,\n",
       "           3.50614199e-03,  -7.53639493e-03,   3.12701809e-03,\n",
       "          -1.95482623e-03,  -7.12103966e-03,   5.40248631e-03,\n",
       "           4.96613350e-03,  -8.58112723e-04,  -7.06013612e-03,\n",
       "          -2.53908052e-03,   3.36983540e-03,  -4.90175820e-03,\n",
       "           2.00975288e-03,  -4.43831759e-03,  -3.58307525e-03,\n",
       "          -1.28474829e-03,  -2.28002007e-03,  -1.58535379e-02,\n",
       "          -1.15642652e-02,   6.89366787e-03,  -4.83025482e-03,\n",
       "           1.78904679e-03,  -1.00623424e-02,   4.32739424e-03,\n",
       "          -3.58802608e-04,   2.20371308e-03,   2.70940774e-03,\n",
       "           3.73034502e-03,   5.46586374e-03,   3.84306744e-03,\n",
       "           4.18986721e-03,  -3.49978148e-05,   5.00067512e-03,\n",
       "           5.76966463e-03,  -1.36909241e-02,  -1.87576342e-03,\n",
       "          -8.99382368e-03,   7.33801040e-04,   5.03625226e-03,\n",
       "           5.06567867e-03,  -1.24519545e-03,   6.78796497e-03,\n",
       "           5.78796274e-03,  -4.17924381e-03,   8.23460225e-03,\n",
       "          -7.34248907e-03,  -6.31400907e-05,  -4.59478619e-03,\n",
       "          -2.55148833e-03,   2.36919999e-03,  -1.60634426e-02,\n",
       "          -6.92918771e-03,  -3.16357990e-04,  -4.62385229e-03,\n",
       "           1.25008834e-02,  -5.41602928e-03,  -2.60728121e-03,\n",
       "           1.01303233e-02,  -1.35382838e-02,   3.53907792e-03,\n",
       "          -1.08554646e-02,   4.39998058e-03,  -1.54741922e-02,\n",
       "           9.64856994e-03,  -1.02282696e-04,  -1.27688477e-02,\n",
       "           2.62346564e-03,  -3.71146885e-03,  -5.73445352e-03,\n",
       "           4.13600232e-03,  -5.11804699e-03,   1.19030366e-03,\n",
       "          -6.87480626e-03,  -1.37354756e-02,   9.25973776e-03,\n",
       "          -2.00810570e-03,  -3.67805721e-03,  -1.50344423e-02,\n",
       "          -6.01643295e-03,  -1.15963090e-02,  -9.77726416e-03,\n",
       "          -2.19853390e-03,   1.51628642e-02,   1.30356393e-02,\n",
       "           2.01197843e-03,   4.96038246e-03,  -5.84586043e-03,\n",
       "           6.86884174e-03,   1.78690610e-02,  -4.22108142e-04,\n",
       "           5.59780615e-04,   2.68971232e-03,   4.42162266e-03,\n",
       "           2.60279057e-04,  -3.40831204e-03,   3.44465531e-03,\n",
       "          -1.88551302e-03,  -8.50566171e-03,   3.44395806e-03,\n",
       "          -4.64403198e-03,   2.23203100e-03,   4.86939319e-03,\n",
       "           9.31808874e-04,  -6.47457569e-03,   5.09043748e-03,\n",
       "          -4.32051910e-03,   4.49295633e-03,  -8.35034170e-03,\n",
       "          -1.86033872e-03,   2.69584052e-03,   3.77063676e-03,\n",
       "          -1.73812780e-03,   1.00394412e-02,   4.57177144e-03,\n",
       "           7.42222441e-03,  -8.32711349e-03,   1.10047582e-03,\n",
       "           4.40520182e-03,   5.46488311e-03,  -8.67184671e-03,\n",
       "           5.23440415e-03,  -9.70137617e-03,  -3.76054022e-03,\n",
       "          -1.03917441e-03,  -3.08810145e-03,   8.98656207e-03,\n",
       "           3.36679697e-03,   8.61742100e-03,  -1.08987140e-03,\n",
       "           3.38394831e-03,   7.09362425e-04,   2.51655577e-03,\n",
       "          -3.20159611e-04,   2.84862755e-03,   5.00508180e-03,\n",
       "          -6.47823755e-03,   1.97194574e-03,   2.17971922e-02,\n",
       "          -5.69274761e-03,  -5.58077080e-03,   7.12515917e-03,\n",
       "          -6.12810685e-03,  -8.24255971e-03,  -1.21738938e-02,\n",
       "          -3.17927753e-04,   6.63822529e-03,   3.08015060e-03,\n",
       "           1.92526742e-03,   3.27140338e-03,  -1.38229253e-02,\n",
       "          -5.70089867e-03,  -5.88551079e-05,   1.48949056e-03,\n",
       "          -1.06696431e-02,  -9.38237318e-03,   3.27737601e-03,\n",
       "           7.39882832e-03,  -1.97018199e-03,  -5.91913164e-03,\n",
       "          -9.96095992e-03,   4.45676972e-03,   1.06353227e-03,\n",
       "           4.82476138e-03,   7.83197119e-04,   5.87838366e-03,\n",
       "          -4.32165637e-03,  -1.48759253e-02,  -3.21026514e-03,\n",
       "           9.14127399e-03,   3.21979833e-03,   1.19798590e-03,\n",
       "           1.52087603e-02,   2.11383938e-03,   4.48806574e-03,\n",
       "           4.62813392e-03,   8.19020375e-03,   5.73570320e-03,\n",
       "           1.15958710e-02,  -3.28687204e-03,   8.35910965e-03,\n",
       "          -2.21607167e-03,   9.63613515e-03,   5.48364161e-03,\n",
       "          -1.25758876e-03,  -5.87747727e-03,   2.76348270e-04,\n",
       "          -1.28509676e-02,  -4.59430601e-03,   5.69037696e-03,\n",
       "           2.52948919e-03,  -1.32659670e-02,  -1.45910355e-03,\n",
       "          -5.67313788e-03,  -4.09615703e-03,   4.96955676e-03,\n",
       "           6.18187012e-03,  -2.71227357e-03,   4.36585497e-03,\n",
       "           7.27403706e-03,   1.74850698e-03,   3.58739663e-03,\n",
       "           9.10664766e-03,   1.08857706e-02,   1.30469869e-02,\n",
       "           9.92953387e-03,   4.13799410e-03,  -1.24252914e-02,\n",
       "          -2.31936503e-03,   8.70167994e-03]])}"
      ]
     },
     "execution_count": 9,
     "metadata": {},
     "output_type": "execute_result"
    }
   ],
   "source": [
    "page_doc_vec = enc.get_searchterm_vector(transformer, ranpgid['text'])\n",
    "page_doc_vec\n"
   ]
  },
  {
   "cell_type": "markdown",
   "metadata": {},
   "source": [
    "# Present: Load previously trained and pickled model"
   ]
  },
  {
   "cell_type": "code",
   "execution_count": 10,
   "metadata": {
    "collapsed": false
   },
   "outputs": [],
   "source": [
    "from sklearn.externals import joblib\n",
    "trained_model = joblib.load('/Users/ginodefalco/dsi/dsi-workspace/Projects/project_6/lib/pickle6.pickle')\n"
   ]
  },
  {
   "cell_type": "code",
   "execution_count": 11,
   "metadata": {
    "collapsed": false
   },
   "outputs": [
    {
     "data": {
      "text/plain": [
       "GaussianNB(priors=None)"
      ]
     },
     "execution_count": 11,
     "metadata": {},
     "output_type": "execute_result"
    }
   ],
   "source": [
    "trained_model"
   ]
  },
  {
   "cell_type": "code",
   "execution_count": 12,
   "metadata": {
    "collapsed": false
   },
   "outputs": [
    {
     "name": "stdout",
     "output_type": "stream",
     "text": [
      "[  7.13314987e-02   1.62071512e-01   1.66018390e-01  -4.52461037e-02\n",
      "   2.17560097e-02  -3.97866967e-03  -8.87611462e-03  -6.90112639e-03\n",
      "   5.44375425e-03  -2.36941120e-02   1.10192500e-02  -4.57661677e-02\n",
      "  -6.38860846e-03  -1.00883449e-03  -4.52887174e-03   2.13589898e-02\n",
      "  -6.47490549e-02  -1.42060867e-02  -3.00094793e-02   5.23158082e-02\n",
      "  -2.07547407e-02   4.82709496e-02   2.47150499e-02   1.68943669e-02\n",
      "  -1.33797245e-03  -1.04056332e-02  -2.51900495e-02   4.79204976e-02\n",
      "  -3.94276612e-02  -3.30924386e-02  -2.10572272e-02   4.93157769e-03\n",
      "  -8.34914947e-03   4.95720588e-03  -2.72668584e-03  -1.98135954e-02\n",
      "  -6.38152342e-03   8.79331787e-03   5.21132323e-03   1.74908582e-02\n",
      "   1.03052597e-02  -1.20918963e-03  -8.79509175e-03   1.42337757e-03\n",
      "  -2.60989387e-02  -3.25473270e-02   4.33797813e-03   9.64498715e-04\n",
      "  -5.91051108e-03   7.98667344e-03  -1.86824399e-02   1.29267078e-02\n",
      "   3.99549245e-04   3.78273500e-03   1.37945348e-02  -1.52592040e-02\n",
      "   5.70028299e-03   1.01295398e-02   2.69772083e-02   1.42471188e-02\n",
      "   1.57818648e-03   1.88687773e-03   2.01829450e-02   8.97330901e-03\n",
      "   4.93964637e-03   1.08888542e-02   1.44202447e-02   1.80035614e-02\n",
      "   2.43824657e-03   1.46048644e-02  -1.97010050e-02  -1.41235924e-03\n",
      "  -2.83316180e-03  -1.98786951e-02   2.12133106e-02   9.29754363e-03\n",
      "   1.56723550e-02   3.02258798e-02   3.35320797e-02  -2.61331006e-02\n",
      "   9.69491574e-03  -5.42621031e-03  -1.00229269e-02  -4.39159673e-03\n",
      "  -8.40479712e-03   2.13685966e-02   5.82767640e-03   4.32667073e-03\n",
      "  -2.10629226e-02  -6.92075806e-03   1.43324952e-02  -2.05100162e-03\n",
      "  -2.49519265e-03  -2.11708416e-03   3.97524967e-03  -1.97213066e-02\n",
      "   7.04830732e-04  -9.21498520e-03  -7.21577664e-03   2.40069665e-02\n",
      "   1.08220416e-03   1.38147743e-02  -1.32078113e-02   1.31665095e-03\n",
      "  -1.49994516e-02  -2.52689014e-03   6.33704001e-03   5.70858903e-03\n",
      "   1.94458825e-02  -1.03727916e-02   8.87266422e-03  -3.48158487e-03\n",
      "   1.31681826e-02  -5.22541519e-03   1.56641244e-03  -2.55524578e-02\n",
      "  -1.41816294e-02   6.58298272e-03  -6.41220438e-04  -4.25128751e-04\n",
      "  -1.11834516e-02   3.22503973e-03   1.36510669e-02   2.19573739e-03\n",
      "  -1.83157197e-02  -1.49874316e-02   1.25659820e-02  -1.13353276e-02\n",
      "   5.77345677e-03   1.87174396e-02   1.75977863e-02  -2.63163651e-02\n",
      "  -1.17836141e-02   1.29112053e-02  -1.44500802e-03  -6.14460321e-03\n",
      "  -1.25039208e-02  -1.27520270e-02  -2.56979065e-03   1.67703807e-02\n",
      "  -1.77049072e-02  -7.67971297e-03  -4.80963203e-03   3.76777516e-03\n",
      "   2.84504107e-03  -2.52611862e-02  -1.76087755e-02   2.79507348e-03\n",
      "  -1.72404683e-02  -2.17788320e-03   2.95610387e-03   4.50875999e-03\n",
      "  -1.06183212e-02   1.52896583e-02   7.42311389e-03  -1.70912769e-03\n",
      "  -3.77679854e-03   8.53320903e-05   1.43854331e-02   8.28113038e-03\n",
      "   3.25188826e-03  -4.20660709e-03  -2.54707903e-03   8.28817064e-03\n",
      "   9.52050810e-03  -7.70912754e-03  -6.54027160e-03   1.08994930e-02\n",
      "  -6.26763546e-04  -4.14467352e-03  -1.88442004e-03   5.15024380e-03\n",
      "  -1.95842519e-02   5.06849649e-03   4.54078188e-03  -5.02611228e-04\n",
      "   7.82877377e-03  -7.87142026e-03   4.32550531e-03  -3.20206747e-03\n",
      "   1.62991501e-03   1.77950217e-03   6.33229976e-03  -2.11813293e-03\n",
      "   2.12323861e-03   6.12409298e-03  -5.76359906e-03   5.37851637e-04\n",
      "  -1.72131828e-04  -1.43994874e-03  -5.67653825e-03   1.77305555e-02\n",
      "   9.16668098e-03   3.15439271e-03  -9.01726854e-03  -6.17165622e-03\n",
      "   7.47040033e-03   6.85859896e-03  -5.15011457e-03  -8.26660192e-03\n",
      "   5.73079353e-03   8.99071316e-04  -6.35651478e-04   2.06813952e-03\n",
      "   1.28978681e-03   4.05571614e-03   1.56615301e-03   1.00297606e-02\n",
      "   1.06511631e-02  -1.48850880e-02   3.47515235e-03   2.52166513e-04\n",
      "  -7.89670345e-03  -7.84863354e-03   6.87987715e-03  -4.21594359e-03\n",
      "   1.31567788e-02  -1.21449428e-03   8.12661821e-04  -2.23125708e-02\n",
      "   6.17544665e-03   4.83740312e-03  -2.36070571e-05   1.51921161e-02\n",
      "  -1.38353183e-03  -9.30953762e-03  -1.65699182e-02   2.19231986e-03\n",
      "   4.32802541e-03  -1.20645952e-02   1.11248053e-02   2.97078131e-03\n",
      "   1.82646061e-03  -8.58907343e-03  -3.33825966e-03   2.17507769e-03\n",
      "  -8.65688142e-03  -1.31721028e-02   2.30079471e-03  -1.29934508e-02\n",
      "  -2.72827892e-03   9.07643836e-03   1.93186326e-02   7.76219396e-06\n",
      "   6.21871986e-03   3.74810875e-03   8.27960597e-03   8.93663262e-03\n",
      "   2.08260244e-04   5.61585686e-03  -6.11533637e-03   4.22597431e-03\n",
      "  -1.13437247e-02   3.01756099e-03   4.93190878e-03  -3.71420020e-03\n",
      "  -2.86744663e-04  -2.05610019e-02   1.06058726e-02  -7.18938192e-03\n",
      "   4.30770803e-03  -1.25477660e-03   1.16063038e-03   7.03445112e-03\n",
      "   3.80333739e-03   9.04694789e-03   6.64702766e-03   2.71877988e-03\n",
      "  -1.00565110e-03  -1.17068937e-02   1.83333755e-03   1.13503051e-02\n",
      "  -1.20208673e-02  -1.00038286e-02  -9.47339653e-03  -1.67490840e-03\n",
      "  -2.09792346e-03  -3.24057203e-03   2.71247278e-03  -4.55171602e-03\n",
      "  -1.24883996e-02  -9.72055845e-05   6.06909658e-03  -5.06801061e-04\n",
      "  -1.97440693e-03  -2.62157938e-03   3.82911478e-03  -1.76386021e-03\n",
      "  -8.16014521e-03  -7.69190500e-03   6.26166047e-03   3.50614199e-03\n",
      "  -7.53639493e-03   3.12701809e-03  -1.95482623e-03  -7.12103966e-03\n",
      "   5.40248631e-03   4.96613350e-03  -8.58112723e-04  -7.06013612e-03\n",
      "  -2.53908052e-03   3.36983540e-03  -4.90175820e-03   2.00975288e-03\n",
      "  -4.43831759e-03  -3.58307525e-03  -1.28474829e-03  -2.28002007e-03\n",
      "  -1.58535379e-02  -1.15642652e-02   6.89366787e-03  -4.83025482e-03\n",
      "   1.78904679e-03  -1.00623424e-02   4.32739424e-03  -3.58802608e-04\n",
      "   2.20371308e-03   2.70940774e-03   3.73034502e-03   5.46586374e-03\n",
      "   3.84306744e-03   4.18986721e-03  -3.49978148e-05   5.00067512e-03\n",
      "   5.76966463e-03  -1.36909241e-02  -1.87576342e-03  -8.99382368e-03\n",
      "   7.33801040e-04   5.03625226e-03   5.06567867e-03  -1.24519545e-03\n",
      "   6.78796497e-03   5.78796274e-03  -4.17924381e-03   8.23460225e-03\n",
      "  -7.34248907e-03  -6.31400907e-05  -4.59478619e-03  -2.55148833e-03\n",
      "   2.36919999e-03  -1.60634426e-02  -6.92918771e-03  -3.16357990e-04\n",
      "  -4.62385229e-03   1.25008834e-02  -5.41602928e-03  -2.60728121e-03\n",
      "   1.01303233e-02  -1.35382838e-02   3.53907792e-03  -1.08554646e-02\n",
      "   4.39998058e-03  -1.54741922e-02   9.64856994e-03  -1.02282696e-04\n",
      "  -1.27688477e-02   2.62346564e-03  -3.71146885e-03  -5.73445352e-03\n",
      "   4.13600232e-03  -5.11804699e-03   1.19030366e-03  -6.87480626e-03\n",
      "  -1.37354756e-02   9.25973776e-03  -2.00810570e-03  -3.67805721e-03\n",
      "  -1.50344423e-02  -6.01643295e-03  -1.15963090e-02  -9.77726416e-03\n",
      "  -2.19853390e-03   1.51628642e-02   1.30356393e-02   2.01197843e-03\n",
      "   4.96038246e-03  -5.84586043e-03   6.86884174e-03   1.78690610e-02\n",
      "  -4.22108142e-04   5.59780615e-04   2.68971232e-03   4.42162266e-03\n",
      "   2.60279057e-04  -3.40831204e-03   3.44465531e-03  -1.88551302e-03\n",
      "  -8.50566171e-03   3.44395806e-03  -4.64403198e-03   2.23203100e-03\n",
      "   4.86939319e-03   9.31808874e-04  -6.47457569e-03   5.09043748e-03\n",
      "  -4.32051910e-03   4.49295633e-03  -8.35034170e-03  -1.86033872e-03\n",
      "   2.69584052e-03   3.77063676e-03  -1.73812780e-03   1.00394412e-02\n",
      "   4.57177144e-03   7.42222441e-03  -8.32711349e-03   1.10047582e-03\n",
      "   4.40520182e-03   5.46488311e-03  -8.67184671e-03   5.23440415e-03\n",
      "  -9.70137617e-03  -3.76054022e-03  -1.03917441e-03  -3.08810145e-03\n",
      "   8.98656207e-03   3.36679697e-03   8.61742100e-03  -1.08987140e-03\n",
      "   3.38394831e-03   7.09362425e-04   2.51655577e-03  -3.20159611e-04\n",
      "   2.84862755e-03   5.00508180e-03  -6.47823755e-03   1.97194574e-03\n",
      "   2.17971922e-02  -5.69274761e-03  -5.58077080e-03   7.12515917e-03\n",
      "  -6.12810685e-03  -8.24255971e-03  -1.21738938e-02  -3.17927753e-04\n",
      "   6.63822529e-03   3.08015060e-03   1.92526742e-03   3.27140338e-03\n",
      "  -1.38229253e-02  -5.70089867e-03  -5.88551079e-05   1.48949056e-03\n",
      "  -1.06696431e-02  -9.38237318e-03   3.27737601e-03   7.39882832e-03\n",
      "  -1.97018199e-03  -5.91913164e-03  -9.96095992e-03   4.45676972e-03\n",
      "   1.06353227e-03   4.82476138e-03   7.83197119e-04   5.87838366e-03\n",
      "  -4.32165637e-03  -1.48759253e-02  -3.21026514e-03   9.14127399e-03\n",
      "   3.21979833e-03   1.19798590e-03   1.52087603e-02   2.11383938e-03\n",
      "   4.48806574e-03   4.62813392e-03   8.19020375e-03   5.73570320e-03\n",
      "   1.15958710e-02  -3.28687204e-03   8.35910965e-03  -2.21607167e-03\n",
      "   9.63613515e-03   5.48364161e-03  -1.25758876e-03  -5.87747727e-03\n",
      "   2.76348270e-04  -1.28509676e-02  -4.59430601e-03   5.69037696e-03\n",
      "   2.52948919e-03  -1.32659670e-02  -1.45910355e-03  -5.67313788e-03\n",
      "  -4.09615703e-03   4.96955676e-03   6.18187012e-03  -2.71227357e-03\n",
      "   4.36585497e-03   7.27403706e-03   1.74850698e-03   3.58739663e-03\n",
      "   9.10664766e-03   1.08857706e-02   1.30469869e-02   9.92953387e-03\n",
      "   4.13799410e-03  -1.24252914e-02  -2.31936503e-03   8.70167994e-03]\n"
     ]
    }
   ],
   "source": [
    "vectors = page_doc_vec.values()[0][0]\n",
    "print vectors"
   ]
  },
  {
   "cell_type": "code",
   "execution_count": 13,
   "metadata": {
    "collapsed": false
   },
   "outputs": [
    {
     "data": {
      "text/plain": [
       "(500,)"
      ]
     },
     "execution_count": 13,
     "metadata": {},
     "output_type": "execute_result"
    }
   ],
   "source": [
    "vectors.reshape(1,500)[0].shape"
   ]
  },
  {
   "cell_type": "markdown",
   "metadata": {},
   "source": [
    "# Model: Predict category and display category and prediction confidence"
   ]
  },
  {
   "cell_type": "code",
   "execution_count": 14,
   "metadata": {
    "collapsed": true
   },
   "outputs": [],
   "source": [
    "from sklearn.neighbors import KNeighborsClassifier\n",
    "from sklearn.naive_bayes import GaussianNB"
   ]
  },
  {
   "cell_type": "code",
   "execution_count": 15,
   "metadata": {
    "collapsed": false
   },
   "outputs": [
    {
     "data": {
      "text/plain": [
       "GaussianNB(priors=None)"
      ]
     },
     "execution_count": 15,
     "metadata": {},
     "output_type": "execute_result"
    }
   ],
   "source": [
    "trained_model"
   ]
  },
  {
   "cell_type": "code",
   "execution_count": null,
   "metadata": {
    "collapsed": true
   },
   "outputs": [],
   "source": [
    "# Could not get this to work\n",
    "trained_model.predict(vectors)"
   ]
  },
  {
   "cell_type": "code",
   "execution_count": null,
   "metadata": {
    "collapsed": true
   },
   "outputs": [],
   "source": [
    "probs = trained_model.predict_proba(vectors)\n",
    "Predict Category: Chemistry\n",
    "Confidence: 0.9"
   ]
  },
  {
   "cell_type": "code",
   "execution_count": null,
   "metadata": {
    "collapsed": true
   },
   "outputs": [],
   "source": [
    "import lib.database_module as db\n",
    "predict_cat = db.execute_sql_statement('''SELECT category_name FROM category WHERE category_id = 716903;’’’)`"
   ]
  }
 ],
 "metadata": {
  "anaconda-cloud": {},
  "kernelspec": {
   "display_name": "Python [conda root]",
   "language": "python",
   "name": "conda-root-py"
  },
  "language_info": {
   "codemirror_mode": {
    "name": "ipython",
    "version": 2
   },
   "file_extension": ".py",
   "mimetype": "text/x-python",
   "name": "python",
   "nbconvert_exporter": "python",
   "pygments_lexer": "ipython2",
   "version": "2.7.12"
  }
 },
 "nbformat": 4,
 "nbformat_minor": 1
}
